{
 "cells": [
  {
   "cell_type": "markdown",
   "id": "21141da1",
   "metadata": {},
   "source": [
    "# Где дешевле жить? Предсказание цен в Airbnb - учимся генерировать признаки и интерпретировать результаты модели"
   ]
  },
  {
   "metadata": {
    "ExecuteTime": {
     "end_time": "2025-10-08T12:05:49.262033Z",
     "start_time": "2025-10-08T12:05:49.134863Z"
    }
   },
   "cell_type": "code",
   "source": [
    "import numpy as np\n",
    "import pandas as pd\n",
    "import matplotlib.pyplot as plt\n",
    "import seaborn as sns\n",
    "from sklearn.preprocessing import LabelEncoder\n",
    "\n",
    "# Загружаем датасет с помощью Pandas\n",
    "data = pd.read_csv('AB_NYC_2019.csv')\n",
    "\n",
    "# Добавляем в датасет для каждого объекта расстояние до центра Манхеттена\n",
    "man_lat = (data[data['neighbourhood_group'] == 'Manhattan']['latitude'].max() - data[data['neighbourhood_group'] == 'Manhattan']['latitude'].min()) / 2\n",
    "man_lon = (data[data['neighbourhood_group'] == 'Manhattan']['longitude'].max() - data[data['neighbourhood_group'] == 'Manhattan']['longitude'].min()) / 2\n",
    "data['man_dist'] = abs(data['latitude'] - man_lat) + abs(data['longitude'] - man_lon)\n",
    "\n",
    "# Кодируем числами категориальные признаки room_type и neighbourhood_group\n",
    "le = LabelEncoder()\n",
    "data['room_type'] = le.fit_transform(data['room_type'])\n",
    "data['neighbourhood'] = le.fit_transform(data['neighbourhood'])\n",
    "data['neighbourhood_group'] = le.fit_transform(data['neighbourhood_group'])\n",
    "\n",
    "# Заполняем NoN в reviews_per_month\n",
    "data['reviews_per_month'] = data['reviews_per_month'].fillna(-1)\n",
    "\n",
    "# Отрезаем лишние колонки\n",
    "cols_to_drop = ['id', 'name', 'host_id', 'host_name', 'last_review', 'latitude', 'longitude']\n",
    "data = data.drop(columns=cols_to_drop)"
   ],
   "id": "86fd817cdf13164a",
   "outputs": [],
   "execution_count": 222
  },
  {
   "metadata": {
    "ExecuteTime": {
     "end_time": "2025-10-08T11:41:14.801682Z",
     "start_time": "2025-10-08T11:41:14.794782Z"
    }
   },
   "cell_type": "code",
   "source": [
    "c = data.groupby('neighbourhood').size()\n",
    "c[c<3]"
   ],
   "id": "601cd7f35a5f86e0",
   "outputs": [
    {
     "data": {
      "text/plain": [
       "neighbourhood\n",
       "9      2\n",
       "42     2\n",
       "82     1\n",
       "100    2\n",
       "114    2\n",
       "141    1\n",
       "165    1\n",
       "172    1\n",
       "177    2\n",
       "208    2\n",
       "211    2\n",
       "215    1\n",
       "219    1\n",
       "dtype: int64"
      ]
     },
     "execution_count": 210,
     "metadata": {},
     "output_type": "execute_result"
    }
   ],
   "execution_count": 210
  },
  {
   "metadata": {
    "ExecuteTime": {
     "end_time": "2025-10-08T12:05:53.781556Z",
     "start_time": "2025-10-08T12:05:52.870306Z"
    }
   },
   "cell_type": "code",
   "source": [
    "# Проставляем Категорию жилья в зависимости от ценового диапазона (с учётом района и типа жилья)\n",
    "list_neighbourhood = list(data['neighbourhood'].unique())\n",
    "list_room_type = list(data['room_type'].unique())\n",
    "\n",
    "data['category'] = 0\n",
    "\n",
    "for i in list_neighbourhood:\n",
    "    for j in list_room_type:\n",
    "        count = data[(data['neighbourhood'] == i) & (data['room_type'] == j)].shape[0]\n",
    "        if count != 0:\n",
    "            mask = (data['neighbourhood'] == i) & (data['room_type'] == j)\n",
    "            mean = int(data[mask]['price'].mean())\n",
    "\n",
    "            mask = (data['neighbourhood'] == i) & (data['room_type'] == j)\n",
    "            std = data[mask]['price'].std()\n",
    "            std = int(np.nan_to_num(std, nan=0))\n",
    "\n",
    "            mask = (data['neighbourhood'] == i) & (data['room_type'] == j) & (data['price'] > mean + 1 * std)\n",
    "            data.loc[mask, 'category'] = 1"
   ],
   "id": "954f407f8a62862f",
   "outputs": [],
   "execution_count": 223
  },
  {
   "metadata": {
    "ExecuteTime": {
     "end_time": "2025-10-08T12:06:07.974830Z",
     "start_time": "2025-10-08T12:06:01.515283Z"
    }
   },
   "cell_type": "code",
   "source": [
    "# Убираем строки с отклонениями цены более 2 сигмы (с учётом района, типа и категории жилья)\n",
    "list_category = list(data['category'].unique())\n",
    "\n",
    "for i in list_neighbourhood:\n",
    "    for j in list_room_type:\n",
    "        for k in list_category:\n",
    "            count = data[(data['neighbourhood'] == i) & (data['room_type'] == j) & (data['category'] == k)].shape[0]\n",
    "            if count != 0:\n",
    "                mask = (data['neighbourhood'] == i) & (data['room_type'] == j) & (data['category'] == k)\n",
    "                mean = int(data[mask]['price'].mean())\n",
    "\n",
    "                mask = (data['neighbourhood'] == i) & (data['room_type'] == j) & (data['category'] == k)\n",
    "                std = data[mask]['price'].std()\n",
    "                std = int(np.nan_to_num(std, nan=0))\n",
    "\n",
    "                mask = (data['neighbourhood'] == i) & (data['room_type'] == j) & (data['category'] == k) & (data['price'] > mean + 1.5 * std)\n",
    "                data = data.drop(data[mask].index)\n",
    "\n",
    "                mask = (data['neighbourhood'] == i) & (data['room_type'] == j) & (data['category'] == k) & (data['price'] < mean - 1.5 * std)\n",
    "                data = data.drop(data[mask].index)"
   ],
   "id": "ac01e6b80052bc5f",
   "outputs": [],
   "execution_count": 224
  },
  {
   "metadata": {
    "ExecuteTime": {
     "end_time": "2025-10-08T12:06:30.521453Z",
     "start_time": "2025-10-08T12:06:30.449371Z"
    }
   },
   "cell_type": "code",
   "source": [
    "# Проверяем распределение целевой переменной\n",
    "import matplotlib.pyplot as plt\n",
    "import seaborn as sns\n",
    "\n",
    "# data['category'].value_counts().plot.bar(figsize=(6, 4))\n",
    "data['category'].value_counts().plot.bar()\n",
    "# data['room_type'].value_counts().plot.bar()\n",
    "# data['neighbourhood'].value_counts().plot.bar()\n",
    "# plt.grid(axis='y')\n",
    "# data['category'].value_counts(normalize=True)\n",
    "\n",
    "# data['room_type'].value_counts().plot.bar(figsize=(6, 4))\n",
    "# plt.grid(axis='y')\n",
    "# data['room_type'].value_counts(normalize=True)"
   ],
   "id": "322896097239132c",
   "outputs": [
    {
     "data": {
      "text/plain": [
       "<Axes: xlabel='category'>"
      ]
     },
     "execution_count": 225,
     "metadata": {},
     "output_type": "execute_result"
    },
    {
     "data": {
      "text/plain": [
       "<Figure size 640x480 with 1 Axes>"
      ],
      "image/png": "[encoded data removed]"
     },
     "metadata": {},
     "output_type": "display_data"
    }
   ],
   "execution_count": 225
  },
  {
   "metadata": {
    "ExecuteTime": {
     "end_time": "2025-10-08T12:05:31.292739Z",
     "start_time": "2025-10-08T12:05:31.062458Z"
    }
   },
   "cell_type": "code",
   "source": [
    "    sns.histplot(data=data, x='room_type', bins=220)\n",
    "    #     hue=\"diagnosis\",\n",
    "    #     bins=50,\n",
    "    #     kde=True,\n",
    "    #     element=\"step\",\n",
    "    #     stat=\"density\",\n",
    "    #     ax=ax\n",
    "    # )"
   ],
   "id": "8b2f8d76c8815ef7",
   "outputs": [
    {
     "data": {
      "text/plain": [
       "<Axes: xlabel='room_type', ylabel='Count'>"
      ]
     },
     "execution_count": 221,
     "metadata": {},
     "output_type": "execute_result"
    },
    {
     "data": {
      "text/plain": [
       "<Figure size 640x480 with 1 Axes>"
      ],
      "image/png": "[encoded data removed]"
     },
     "metadata": {},
     "output_type": "display_data"
    }
   ],
   "execution_count": 221
  },
  {
   "metadata": {
    "ExecuteTime": {
     "end_time": "2025-10-08T11:21:26.501353Z",
     "start_time": "2025-10-08T11:21:26.497978Z"
    }
   },
   "cell_type": "code",
   "source": [
    "# # Посмотрим на хитмап корреляции фичей в их влиянии на целевую функцию, с помощью seaborn\n",
    "# import seaborn as sns\n",
    "#\n",
    "# plt.figure(figsize=(10, 10))\n",
    "# sns.heatmap(data.drop(['category'], axis=1).corr(), annot=True, cbar=False, linewidths=.5, fmt= '.2f')\n",
    "# plt.show()"
   ],
   "id": "62e9e76734c659f2",
   "outputs": [],
   "execution_count": 206
  },
  {
   "metadata": {
    "ExecuteTime": {
     "end_time": "2025-10-08T12:07:20.287013Z",
     "start_time": "2025-10-08T12:07:19.632068Z"
    }
   },
   "cell_type": "code",
   "source": [
    "# Обучение классификатора, который предсказывает Категорию жилья\n",
    "\n",
    "from sklearn.model_selection import train_test_split\n",
    "from sklearn.neighbors import KNeighborsClassifier\n",
    "from sklearn.metrics import accuracy_score, precision_score, recall_score, f1_score\n",
    "# Свой Scaler который возвращает типы Pandas\n",
    "from sklearn.preprocessing import StandardScaler\n",
    "class StandardScalerPd(StandardScaler):\n",
    "    def transform(self, X, *args, **kwargs):\n",
    "        X_scaled = super().transform(X, *args, **kwargs)\n",
    "        return pd.DataFrame(X_scaled, columns=X.columns, index=X.index)\n",
    "\n",
    "    def fit_transform(self, X, *args, **kwargs):\n",
    "        X_scaled = super().fit_transform(X, *args, **kwargs)\n",
    "        return pd.DataFrame(X_scaled, columns=X.columns, index=X.index)\n",
    "\n",
    "#------------------------------------------------------------------------------------------\n",
    "\n",
    "# Разбиваем датасет на train и test, со стратификацией. Готовим датасеты для Классификатор и для Регрессора\n",
    "X_train, X_test, y_train, y_test = train_test_split(\n",
    "    data,\n",
    "    data['category'],\n",
    "    test_size=0.30,\n",
    "    random_state=42,\n",
    "    stratify=data['category']\n",
    ")\n",
    "\n",
    "# Сохраняем Price и Category отдельно перед скейлингом\n",
    "train_Price = X_train['price']\n",
    "test_Price = X_test['price']\n",
    "train_Category = X_train['category']\n",
    "test_Category = X_test['category']\n",
    "X_train = X_train.drop(columns=['price', 'category'])\n",
    "X_test = X_test.drop(columns=['price', 'category'])\n",
    "\n",
    "# Приводим значения признаков к одному масштабу\n",
    "scaler = StandardScalerPd()\n",
    "X_train = scaler.fit_transform(X_train)\n",
    "X_test = scaler.transform(X_test)\n",
    "\n",
    "# Готовим датасет для обучения Классификатора\n",
    "X_train_Classifier = X_train\n",
    "X_test_Classifier = X_test\n",
    "y_train_Classifier = y_train\n",
    "y_test_Classifier = y_test\n",
    "\n",
    "# Learning Classifier из коробки\n",
    "model = KNeighborsClassifier(n_neighbors=5)\n",
    "model.fit(X_train_Classifier, y_train_Classifier)\n",
    "\n",
    "# print(\"Из коробки k - n_neighbors: {}\".format(model.n_neighbors))\n",
    "# print(\"Из коробки p - расстояние (норма): {}\".format(model.p))\n",
    "\n",
    "# Проверяем метрики модели на тестовой выборке\n",
    "y_test_Classifier_Predictions = model.predict(X_test_Classifier)\n",
    "# print(\"--------\")\n",
    "print(\"Resulting test score - accuracy_score: {:.3f}\".format(accuracy_score(y_test_Classifier_Predictions, y_test_Classifier)))\n",
    "print(\"Resulting test score - precision_score: {:.3f}\".format(precision_score(y_test_Classifier_Predictions, y_test_Classifier)))\n",
    "print(\"Resulting test score - recall_score: {:.3f}\".format(recall_score(y_test_Classifier_Predictions, y_test_Classifier)))\n",
    "print(\"Resulting test score - f1_score: {:.3f}\".format(f1_score(y_test_Classifier_Predictions, y_test_Classifier)))"
   ],
   "id": "c217b2d246fab2b",
   "outputs": [
    {
     "name": "stdout",
     "output_type": "stream",
     "text": [
      "Resulting test score - accuracy_score: 0.931\n",
      "Resulting test score - precision_score: 0.107\n",
      "Resulting test score - recall_score: 0.466\n",
      "Resulting test score - f1_score: 0.174\n"
     ]
    }
   ],
   "execution_count": 226
  },
  {
   "metadata": {
    "ExecuteTime": {
     "end_time": "2025-10-08T12:09:28.812702Z",
     "start_time": "2025-10-08T12:09:28.700142Z"
    }
   },
   "cell_type": "code",
   "source": [
    "# Обучаем регрессор предсказывать цену на датасете, включающем Категорию жилья\n",
    "# from sklearn.model_selection import GridSearchCV\n",
    "# from sklearn.linear_model import LinearRegression\n",
    "# from sklearn.neighbors import KNeighborsRegressor\n",
    "# from sklearn.ensemble import RandomForestRegressor\n",
    "# from sklearn.ensemble import GradientBoostingRegressor\n",
    "# from catboost import CatBoostRegressor\n",
    "from lightgbm import LGBMRegressor\n",
    "from sklearn.metrics import mean_squared_error\n",
    "\n",
    "# Готовим датасет для обучения Регрессора\n",
    "# Добавляем Category без скейлинга, не критично, т.к. там значения 0 и 1 - не сильно отличаются по масштабу\n",
    "X_train_Regressor = X_train.assign(category=train_Category)\n",
    "X_test_Regressor1 = X_test.assign(category=test_Category)\n",
    "X_test_Regressor2 = X_test.assign(category=y_test_Classifier_Predictions)\n",
    "y_train_Regressor = train_Price\n",
    "y_test_Regressor = test_Price\n",
    "\n",
    "# Обучение из коробки\n",
    "model = LGBMRegressor(random_state=42)\n",
    "model.fit(X_train_Regressor, y_train_Regressor)\n",
    "y_test_Regressor1_Predictions = model.predict(X_test_Regressor1)\n",
    "y_test_Regressor2_Predictions = model.predict(X_test_Regressor2)\n",
    "\n",
    "# Посчитаем RMSE\n",
    "mask1 = test_Price < 100\n",
    "mask2 = (test_Price < 500) & (test_Price >= 100)\n",
    "mask3 = (test_Price < 1000) & (test_Price >= 500)\n",
    "mask4 = test_Price >= 1000\n",
    "\n",
    "rmse1 = np.sqrt(mean_squared_error(y_test_Regressor, y_test_Regressor1_Predictions))\n",
    "rmse11 = (np.sqrt(mean_squared_error(y_test_Regressor[mask1], y_test_Regressor1_Predictions[mask1])) if len(y_test_Regressor[mask1]) > 0 else 0)\n",
    "rmse12 = (np.sqrt(mean_squared_error(y_test_Regressor[mask2], y_test_Regressor1_Predictions[mask2])) if len(y_test_Regressor[mask2]) > 0 else 0)\n",
    "rmse13 = (np.sqrt(mean_squared_error(y_test_Regressor[mask3], y_test_Regressor1_Predictions[mask3])) if len(y_test_Regressor[mask3]) > 0 else 0)\n",
    "rmse14 = (np.sqrt(mean_squared_error(y_test_Regressor[mask4], y_test_Regressor1_Predictions[mask4])) if len(y_test_Regressor[mask4]) > 0 else 0)\n",
    "\n",
    "rmse2 = np.sqrt(mean_squared_error(y_test_Regressor, y_test_Regressor2_Predictions))\n",
    "rmse21 = (np.sqrt(mean_squared_error(y_test_Regressor[mask1], y_test_Regressor2_Predictions[mask1])) if len(y_test_Regressor[mask1]) > 0 else 0)\n",
    "rmse22 = (np.sqrt(mean_squared_error(y_test_Regressor[mask2], y_test_Regressor2_Predictions[mask2])) if len(y_test_Regressor[mask2]) > 0 else 0)\n",
    "rmse23 = (np.sqrt(mean_squared_error(y_test_Regressor[mask3], y_test_Regressor2_Predictions[mask3])) if len(y_test_Regressor[mask3]) > 0 else 0)\n",
    "rmse24 = (np.sqrt(mean_squared_error(y_test_Regressor[mask4], y_test_Regressor2_Predictions[mask4])) if len(y_test_Regressor[mask4]) > 0 else 0)\n",
    "\n",
    "print('------------------------------------------------------------')\n",
    "print(\"RMSE 1 (на рассчитанных значениях Category):\", rmse1)\n",
    "print(\"RMSE 11 (в ценовом диапазоне до 100 USD):\", rmse11)\n",
    "print(\"RMSE 12 (в ценовом диапазоне от 100 до 500 USD):\", rmse12)\n",
    "print(\"RMSE 13 (в ценовом диапазоне от 500 до 1000 USD):\", rmse13)\n",
    "print(\"RMSE 14 (в ценовом диапазоне от 1000 USD):\", rmse14)\n",
    "print('------------------------------------------------------------')\n",
    "print(\"RMSE 2 (на предсказанных значениях Category):\", rmse2)\n",
    "print(\"RMSE 21 (в ценовом диапазоне до 100 USD):\", rmse21)\n",
    "print(\"RMSE 22 (в ценовом диапазоне от 100 до 500 USD):\", rmse22)\n",
    "print(\"RMSE 23 (в ценовом диапазоне от 500 до 1000 USD):\", rmse23)\n",
    "print(\"RMSE 24 (в ценовом диапазоне от 1000 USD):\", rmse24)\n"
   ],
   "id": "2e27363bfa9237bf",
   "outputs": [
    {
     "name": "stdout",
     "output_type": "stream",
     "text": [
      "[LightGBM] [Info] Auto-choosing row-wise multi-threading, the overhead of testing was 0.000196 seconds.\n",
      "You can set `force_row_wise=true` to remove the overhead.\n",
      "And if memory is not enough, you can set `force_col_wise=true`.\n",
      "[LightGBM] [Info] Total Bins 1340\n",
      "[LightGBM] [Info] Number of data points in the train set: 30559, number of used features: 10\n",
      "[LightGBM] [Info] Start training from score 140.057332\n",
      "------------------------------------------------------------\n",
      "RMSE 1 (на рассчитанных значениях Category): 142.4621145021821\n",
      "RMSE 11 (в ценовом диапазоне до 100 USD): 58.016325041437234\n",
      "RMSE 12 (в ценовом диапазоне от 100 до 500 USD): 83.78977700448456\n",
      "RMSE 13 (в ценовом диапазоне от 500 до 1000 USD): 292.55201043806676\n",
      "RMSE 14 (в ценовом диапазоне от 1000 USD): 1640.1103796465131\n",
      "------------------------------------------------------------\n",
      "RMSE 2 (на предсказанных значениях Category): 177.207954243558\n",
      "RMSE 21 (в ценовом диапазоне до 100 USD): 49.86034722758947\n",
      "RMSE 22 (в ценовом диапазоне от 100 до 500 USD): 82.9960830752327\n",
      "RMSE 23 (в ценовом диапазоне от 500 до 1000 USD): 468.01668334017984\n",
      "RMSE 24 (в ценовом диапазоне от 1000 USD): 2129.925123096256\n"
     ]
    }
   ],
   "execution_count": 227
  }
 ],
 "metadata": {
  "language_info": {
   "name": "python"
  }
 },
 "nbformat": 4,
 "nbformat_minor": 5
}
