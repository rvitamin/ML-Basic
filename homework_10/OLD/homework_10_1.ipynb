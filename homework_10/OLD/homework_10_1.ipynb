{
 "cells": [
  {
   "cell_type": "markdown",
   "id": "21141da1",
   "metadata": {},
   "source": [
    "# Где дешевле жить? Предсказание цен в Airbnb - учимся генерировать признаки и интерпретировать результаты модели"
   ]
  },
  {
   "metadata": {
    "ExecuteTime": {
     "end_time": "2025-10-01T17:15:55.835095Z",
     "start_time": "2025-10-01T17:15:55.735973Z"
    }
   },
   "cell_type": "code",
   "source": [
    "import numpy as np\n",
    "import pandas as pd\n",
    "import matplotlib.pyplot as plt\n",
    "import seaborn as sns\n",
    "from sklearn.preprocessing import LabelEncoder\n",
    "\n",
    "# Загружаем датасет с помощью Pandas\n",
    "data = pd.read_csv('AB_NYC_2019.csv')\n"
   ],
   "id": "86fd817cdf13164a",
   "outputs": [],
   "execution_count": 199
  },
  {
   "metadata": {
    "ExecuteTime": {
     "end_time": "2025-10-01T17:15:57.237332Z",
     "start_time": "2025-10-01T17:15:57.186902Z"
    }
   },
   "cell_type": "code",
   "source": [
    "# Добавляем в датасет для каждого объекта расстояние до центра Манхеттена\n",
    "man_lat = (data[data['neighbourhood_group'] == 'Manhattan']['latitude'].max() - data[data['neighbourhood_group'] == 'Manhattan']['latitude'].min()) / 2\n",
    "man_lon = (data[data['neighbourhood_group'] == 'Manhattan']['longitude'].max() - data[data['neighbourhood_group'] == 'Manhattan']['longitude'].min()) / 2\n",
    "data['man_dist'] = abs(data['latitude'] - man_lat) + abs(data['longitude'] - man_lon)\n",
    "\n",
    "# Кодируем числами категориальные признаки room_type и neighbourhood_group\n",
    "le = LabelEncoder()\n",
    "data['room_type'] = le.fit_transform(data['room_type'])\n",
    "data['neighbourhood'] = le.fit_transform(data['neighbourhood'])\n",
    "data['neighbourhood_group'] = le.fit_transform(data['neighbourhood_group'])\n",
    "\n",
    "# Заполняем NoN в reviews_per_month\n",
    "data['reviews_per_month'] = data['reviews_per_month'].fillna(-999)\n",
    "\n",
    "# Отрезаем лишние колонки\n",
    "cols_to_drop = ['id', 'name', 'host_id', 'host_name', 'last_review', 'latitude', 'longitude']\n",
    "data = data.drop(columns=cols_to_drop)"
   ],
   "id": "2640ca09be557a39",
   "outputs": [],
   "execution_count": 200
  },
  {
   "metadata": {
    "ExecuteTime": {
     "end_time": "2025-10-01T16:47:49.953591Z",
     "start_time": "2025-10-01T16:47:49.947320Z"
    }
   },
   "cell_type": "code",
   "source": "data.isna().sum()",
   "id": "5295d15d15828b99",
   "outputs": [
    {
     "data": {
      "text/plain": [
       "neighbourhood_group               0\n",
       "neighbourhood                     0\n",
       "room_type                         0\n",
       "price                             0\n",
       "minimum_nights                    0\n",
       "number_of_reviews                 0\n",
       "reviews_per_month                 0\n",
       "calculated_host_listings_count    0\n",
       "availability_365                  0\n",
       "man_dist                          0\n",
       "dtype: int64"
      ]
     },
     "execution_count": 165,
     "metadata": {},
     "output_type": "execute_result"
    }
   ],
   "execution_count": 165
  },
  {
   "metadata": {
    "ExecuteTime": {
     "end_time": "2025-10-01T17:07:01.310174Z",
     "start_time": "2025-10-01T17:07:01.306006Z"
    }
   },
   "cell_type": "code",
   "source": "data.shape",
   "id": "b697403fe3497da1",
   "outputs": [
    {
     "data": {
      "text/plain": [
       "(48895, 10)"
      ]
     },
     "execution_count": 190,
     "metadata": {},
     "output_type": "execute_result"
    }
   ],
   "execution_count": 190
  },
  {
   "metadata": {
    "ExecuteTime": {
     "end_time": "2025-10-01T17:16:02.885780Z",
     "start_time": "2025-10-01T17:16:00.664956Z"
    }
   },
   "cell_type": "code",
   "source": [
    "# Устраняем аномалии\n",
    "list_neighbourhood = list(data['neighbourhood'].unique())\n",
    "list_room_type = list(data['room_type'].unique())\n",
    "\n",
    "for i in list_neighbourhood:\n",
    "    for j in list_room_type:\n",
    "        count = data[(data['neighbourhood'] == i) & (data['room_type'] == j)].shape[0]\n",
    "        if count != 0:\n",
    "            mean = int(data[(data['neighbourhood'] == i) & (data['room_type'] == j)]['price'].mean())\n",
    "            std = data[(data['neighbourhood'] == i) & (data['room_type'] == j)]['price'].std()\n",
    "            std = int(np.nan_to_num(std, nan=0))\n",
    "            # data.loc[(data['neighbourhood'] == i) & (data['room_type'] == j) & (data['price'] > mean + 2 * std), 'price'] = mean\n",
    "            mask = (data['neighbourhood'] == i) & (data['room_type'] == j) & (data['price'] > mean + 2 * std)\n",
    "            data = data.drop(data[mask].index)"
   ],
   "id": "bfcc9e960c9a9cf2",
   "outputs": [],
   "execution_count": 201
  },
  {
   "metadata": {
    "ExecuteTime": {
     "end_time": "2025-10-01T17:16:07.764462Z",
     "start_time": "2025-10-01T17:16:07.728756Z"
    }
   },
   "cell_type": "code",
   "source": [
    "from sklearn.linear_model import LinearRegression\n",
    "from sklearn.model_selection import train_test_split\n",
    "from sklearn.preprocessing import StandardScaler\n",
    "from sklearn.metrics import mean_squared_error\n",
    "\n",
    "X_train, X_test, y_train, y_test = train_test_split(\n",
    "    data.drop(['price'], axis=1),\n",
    "    data['price'],\n",
    "    test_size=0.30,\n",
    "    random_state=42,\n",
    ")\n",
    "\n",
    "data_pg1 = data[data['price'] < 100]\n",
    "\n",
    "X_train_pg1, X_test_pg1,y_train_pg1, y_test_pg1 = train_test_split(\n",
    "    data_pg1.drop(['price'], axis=1),\n",
    "    data_pg1['price'],\n",
    "    test_size=0.30,\n",
    "    random_state=42,\n",
    ")\n",
    "\n",
    "scaler = StandardScaler()\n",
    "X_train = scaler.fit_transform(X_train)\n",
    "X_test = scaler.transform(X_test)\n",
    "\n",
    "model = LinearRegression()\n",
    "model.fit(X_train, y_train)\n",
    "y_test_predictions = model.predict(X_test)\n",
    "\n",
    "rmse = np.sqrt(mean_squared_error(y_test, y_test_predictions))\n",
    "print(\"RMSE:\", rmse)\n",
    "\n",
    "X_test_pg1 = scaler.transform(X_test_pg1)\n",
    "y_test_pg1_predictions = model.predict(X_test_pg1)\n",
    "rmse_pg1 = np.sqrt(mean_squared_error(y_test_pg1, y_test_pg1_predictions))\n",
    "print(\"RMSE pg1:\", rmse_pg1)"
   ],
   "id": "bfd912a164205ec4",
   "outputs": [
    {
     "name": "stdout",
     "output_type": "stream",
     "text": [
      "RMSE: 84.9160139083158\n",
      "RMSE pg1: 50.52498308506838\n"
     ]
    }
   ],
   "execution_count": 202
  },
  {
   "metadata": {
    "ExecuteTime": {
     "end_time": "2025-10-01T17:15:05.967564Z",
     "start_time": "2025-10-01T17:15:05.963251Z"
    }
   },
   "cell_type": "code",
   "source": "data_pg1.shape",
   "id": "ff361b6f148058b5",
   "outputs": [
    {
     "data": {
      "text/plain": [
       "(21844, 10)"
      ]
     },
     "execution_count": 198,
     "metadata": {},
     "output_type": "execute_result"
    }
   ],
   "execution_count": 198
  },
  {
   "metadata": {
    "ExecuteTime": {
     "end_time": "2025-10-01T14:34:27.490055Z",
     "start_time": "2025-10-01T14:34:27.487563Z"
    }
   },
   "cell_type": "code",
   "source": [
    "# for i in list_feat2:\n",
    "#     data.loc[data['neighbourhood'] == i, 'neighbourhood_1'] = data.loc[data['neighbourhood'] == i, 'neighbourhood_group']*1000 + list_feat2.index(i)\n",
    "#     print(list_feat2.index(i))\n"
   ],
   "id": "92171f3b1773a9ac",
   "outputs": [],
   "execution_count": 59
  },
  {
   "metadata": {
    "ExecuteTime": {
     "end_time": "2025-10-01T14:34:33.743514Z",
     "start_time": "2025-10-01T14:34:33.740524Z"
    }
   },
   "cell_type": "code",
   "source": "# data[data['neighbourhood_1'] < 1000]['neighbourhood_1'].unique()",
   "id": "82cc47737cb4a8ce",
   "outputs": [],
   "execution_count": 60
  },
  {
   "metadata": {
    "ExecuteTime": {
     "end_time": "2025-10-01T14:34:57.449965Z",
     "start_time": "2025-10-01T14:34:57.446250Z"
    }
   },
   "cell_type": "code",
   "source": [
    "# Кодируем neighbourhood_1 как составной числовой признак\n",
    "# list_feat2 = list(data['neighbourhood'].unique())\n",
    "# for i in list_feat2:\n",
    "#     data.loc[data['neighbourhood'] == i, 'neighbourhood_1'] = data.loc[data['neighbourhood'] == i, 'neighbourhood_group']*1000 + list_feat2.index(i)\n",
    "#\n",
    "# data['neighbourhood_1'] = data['neighbourhood_1'].astype(int)\n",
    "\n",
    "# Отрезаем neighbourhood, вместо него будет neighbourhood_1\n",
    "# cols_to_drop = ['neighbourhood',]\n",
    "# data = data.drop(columns=cols_to_drop)\n",
    "#\n",
    "# data.head()"
   ],
   "id": "a98ce38ab5db8d09",
   "outputs": [],
   "execution_count": 61
  },
  {
   "metadata": {
    "ExecuteTime": {
     "end_time": "2025-10-01T14:37:49.455666Z",
     "start_time": "2025-10-01T14:37:48.990350Z"
    }
   },
   "cell_type": "code",
   "source": [
    "# for feat in ['neighbourhood_group', 'neighbourhood', 'room_type', 'price', 'minimum_nights', 'number_of_reviews', 'reviews_per_month', 'calculated_host_listings_count', 'availability_365']:\n",
    "for feat in ['price', 'neighbourhood']:\n",
    "    sns.histplot(\n",
    "            data=data,\n",
    "            bins=200,\n",
    "            x=feat\n",
    "        )\n",
    "    plt.show()"
   ],
   "id": "caeb8e45eacc7dc7",
   "outputs": [
    {
     "data": {
      "text/plain": [
       "<Figure size 640x480 with 1 Axes>"
      ],
      "image/png": "[encoded data removed]"
     },
     "metadata": {},
     "output_type": "display_data"
    },
    {
     "data": {
      "text/plain": [
       "<Figure size 640x480 with 1 Axes>"
      ],
      "image/png": "[encoded data removed]"
     },
     "metadata": {},
     "output_type": "display_data"
    }
   ],
   "execution_count": 69
  },
  {
   "metadata": {
    "ExecuteTime": {
     "end_time": "2025-10-01T14:41:10.263451Z",
     "start_time": "2025-10-01T14:41:10.120521Z"
    }
   },
   "cell_type": "code",
   "source": [
    "# sns.pairplot(\n",
    "#     data[data['room_type'] == 0],\n",
    "#     # vars=['neighbourhood_group', 'neighbourhood', 'room_type', 'price', 'minimum_nights', 'number_of_reviews', 'reviews_per_month', 'calculated_host_listings_count', 'availability_365'],\n",
    "#     vars=['neighbourhood', 'price'],\n",
    "# )\n",
    "\n",
    "sns.scatterplot(data=data, x='neighbourhood', y='price')\n",
    "plt.show()"
   ],
   "id": "41561ea69375762f",
   "outputs": [
    {
     "data": {
      "text/plain": [
       "<Figure size 640x480 with 1 Axes>"
      ],
      "image/png": "[encoded data removed]"
     },
     "metadata": {},
     "output_type": "display_data"
    }
   ],
   "execution_count": 70
  },
  {
   "metadata": {},
   "cell_type": "code",
   "source": [
    "# data.groupby('neighbourhood')['price'].mean().sort_values(ascending=False)\n",
    "\n",
    "data.groupby(['neighbourhood', 'room_type'])['price'].agg(['mean', 'std']).reset_index(). head(50)\n"
   ],
   "id": "cf1c8d402140bb4d",
   "outputs": [],
   "execution_count": null
  },
  {
   "metadata": {},
   "cell_type": "code",
   "outputs": [],
   "execution_count": null,
   "source": [
    "data_neighbourhood = data[(data['neighbourhood'] == 3) & (data['room_type'] == 2)]\n",
    "mean = data_neighbourhood['price'].mean()\n",
    "std = data_neighbourhood['price'].std()\n",
    "\n",
    "outliers = data_neighbourhood[abs(data_neighbourhood[\"price\"] - mean) > 5 * std]\n",
    "outliers.sort_values(by=\"price\", ascending=False)"
   ],
   "id": "8de96d001b72b118"
  },
  {
   "metadata": {
    "ExecuteTime": {
     "end_time": "2025-10-01T15:20:50.290149Z",
     "start_time": "2025-10-01T15:20:49.982712Z"
    }
   },
   "cell_type": "code",
   "source": [
    "list_feat2 = list(data['neighbourhood'].unique())\n",
    "for i in list_feat2:\n",
    "    data.loc[data['neighbourhood'] == i, 'n_lat'] = (data.loc[data['neighbourhood'] == i, 'latitude'].max() - data.loc[data['neighbourhood'] == i, 'latitude'].min()) / 2\n",
    "    data.loc[data['neighbourhood'] == i, 'n_lon'] = (data.loc[data['neighbourhood'] == i, 'longitude'].max() - data.loc[data['neighbourhood'] == i, 'longitude'].min()) / 2\n",
    "\n",
    "data['dist'] = abs(data['latitude'] - data['n_lat']) + abs(data['longitude'] - data['n_lon'])\n",
    "\n",
    "cols_to_drop = ['n_lat', 'n_lon', 'latitude', 'longitude']\n",
    "data = data.drop(columns=cols_to_drop)\n"
   ],
   "id": "6b0c8897c238d1a7",
   "outputs": [],
   "execution_count": 85
  },
  {
   "metadata": {
    "ExecuteTime": {
     "end_time": "2025-10-01T15:21:45.688841Z",
     "start_time": "2025-10-01T15:21:45.673244Z"
    }
   },
   "cell_type": "code",
   "source": [
    "cols_to_drop = ['n_lat', 'n_lon', 'latitude', 'longitude']\n",
    "data = data.drop(columns=cols_to_drop)\n",
    "\n",
    "data.sort_values(by=\"neighbourhood\").head()\n"
   ],
   "id": "1eb48827fd99136d",
   "outputs": [
    {
     "data": {
      "text/plain": [
       "       neighbourhood  room_type  price  minimum_nights  number_of_reviews  \\\n",
       "30055              0          0    250               2                 22   \n",
       "1578               0          1     39               2                169   \n",
       "23278              0          1     49               3                  1   \n",
       "17629              0          1     50               1                  8   \n",
       "1706               0          1     38               1                187   \n",
       "\n",
       "       reviews_per_month  calculated_host_listings_count  availability_365  \\\n",
       "30055               1.44                               5               361   \n",
       "1578                2.07                               4               306   \n",
       "23278               0.04                               1                 0   \n",
       "17629               0.23                               1               280   \n",
       "1706                2.34                               4               241   \n",
       "\n",
       "             dist  \n",
       "30055  114.735535  \n",
       "1578   114.734645  \n",
       "23278  114.727635  \n",
       "17629  114.719215  \n",
       "1706   114.733345  "
      ],
      "text/html": [
       "<div>\n",
       "<style scoped>\n",
       "    .dataframe tbody tr th:only-of-type {\n",
       "        vertical-align: middle;\n",
       "    }\n",
       "\n",
       "    .dataframe tbody tr th {\n",
       "        vertical-align: top;\n",
       "    }\n",
       "\n",
       "    .dataframe thead th {\n",
       "        text-align: right;\n",
       "    }\n",
       "</style>\n",
       "<table border=\"1\" class=\"dataframe\">\n",
       "  <thead>\n",
       "    <tr style=\"text-align: right;\">\n",
       "      <th></th>\n",
       "      <th>neighbourhood</th>\n",
       "      <th>room_type</th>\n",
       "      <th>price</th>\n",
       "      <th>minimum_nights</th>\n",
       "      <th>number_of_reviews</th>\n",
       "      <th>reviews_per_month</th>\n",
       "      <th>calculated_host_listings_count</th>\n",
       "      <th>availability_365</th>\n",
       "      <th>dist</th>\n",
       "    </tr>\n",
       "  </thead>\n",
       "  <tbody>\n",
       "    <tr>\n",
       "      <th>30055</th>\n",
       "      <td>0</td>\n",
       "      <td>0</td>\n",
       "      <td>250</td>\n",
       "      <td>2</td>\n",
       "      <td>22</td>\n",
       "      <td>1.44</td>\n",
       "      <td>5</td>\n",
       "      <td>361</td>\n",
       "      <td>114.735535</td>\n",
       "    </tr>\n",
       "    <tr>\n",
       "      <th>1578</th>\n",
       "      <td>0</td>\n",
       "      <td>1</td>\n",
       "      <td>39</td>\n",
       "      <td>2</td>\n",
       "      <td>169</td>\n",
       "      <td>2.07</td>\n",
       "      <td>4</td>\n",
       "      <td>306</td>\n",
       "      <td>114.734645</td>\n",
       "    </tr>\n",
       "    <tr>\n",
       "      <th>23278</th>\n",
       "      <td>0</td>\n",
       "      <td>1</td>\n",
       "      <td>49</td>\n",
       "      <td>3</td>\n",
       "      <td>1</td>\n",
       "      <td>0.04</td>\n",
       "      <td>1</td>\n",
       "      <td>0</td>\n",
       "      <td>114.727635</td>\n",
       "    </tr>\n",
       "    <tr>\n",
       "      <th>17629</th>\n",
       "      <td>0</td>\n",
       "      <td>1</td>\n",
       "      <td>50</td>\n",
       "      <td>1</td>\n",
       "      <td>8</td>\n",
       "      <td>0.23</td>\n",
       "      <td>1</td>\n",
       "      <td>280</td>\n",
       "      <td>114.719215</td>\n",
       "    </tr>\n",
       "    <tr>\n",
       "      <th>1706</th>\n",
       "      <td>0</td>\n",
       "      <td>1</td>\n",
       "      <td>38</td>\n",
       "      <td>1</td>\n",
       "      <td>187</td>\n",
       "      <td>2.34</td>\n",
       "      <td>4</td>\n",
       "      <td>241</td>\n",
       "      <td>114.733345</td>\n",
       "    </tr>\n",
       "  </tbody>\n",
       "</table>\n",
       "</div>"
      ]
     },
     "execution_count": 88,
     "metadata": {},
     "output_type": "execute_result"
    }
   ],
   "execution_count": 88
  },
  {
   "metadata": {
    "ExecuteTime": {
     "end_time": "2025-10-01T16:06:23.479951Z",
     "start_time": "2025-10-01T16:06:23.452375Z"
    }
   },
   "cell_type": "code",
   "source": [
    "from sklearn.linear_model import LinearRegression\n",
    "from sklearn.model_selection import train_test_split\n",
    "from sklearn.preprocessing import StandardScaler\n",
    "from sklearn.metrics import mean_squared_error\n",
    "\n",
    "X_train, X_test, y_train, y_test = train_test_split(\n",
    "    data.drop(['price'], axis=1),\n",
    "    data['price'],\n",
    "    test_size=0.30,\n",
    "    random_state=42,\n",
    ")\n",
    "\n",
    "scaler = StandardScaler()\n",
    "X_train = scaler.fit_transform(X_train)\n",
    "X_test = scaler.transform(X_test)\n",
    "\n",
    "model = LinearRegression()\n",
    "model.fit(X_train, y_train)\n",
    "y_test_predictions = model.predict(X_test)\n",
    "\n",
    "rmse = np.sqrt(mean_squared_error(y_test, y_test_predictions))\n",
    "print(\"RMSE:\", rmse)\n",
    "\n"
   ],
   "id": "6a2f11962517e873",
   "outputs": [
    {
     "name": "stdout",
     "output_type": "stream",
     "text": [
      "RMSE: 188.56833975242077\n"
     ]
    }
   ],
   "execution_count": 115
  },
  {
   "metadata": {
    "ExecuteTime": {
     "end_time": "2025-09-27T16:08:08.198749Z",
     "start_time": "2025-09-27T16:08:08.185823Z"
    }
   },
   "cell_type": "code",
   "source": [
    "# data[(data['neighbourhood_group'] == 0) & (data['price'] > 2000)].head()\n",
    "\n",
    "\n",
    "\n",
    "data_neighbourhood = data[(data['neighbourhood_group'] == 3) & (data['room_type'] == 2)]\n",
    "mean = data_neighbourhood['price'].mean()\n",
    "std = data_neighbourhood['price'].std()\n",
    "\n",
    "outliers = data_neighbourhood[abs(data_neighbourhood[\"price\"] - mean) > 5 * std]\n",
    "outliers.sort_values(by=\"price\", ascending=False)\n",
    "# data_neighbourhood"
   ],
   "id": "d6dc9e9593b42348",
   "outputs": [
    {
     "data": {
      "text/plain": [
       "       neighbourhood_group  neighbourhood  latitude  longitude  room_type  \\\n",
       "14380                    3           3004  40.76626  -73.93054          2   \n",
       "30080                    3           3117  40.74786  -73.94628          2   \n",
       "23545                    3           3077  40.76796  -73.81732          2   \n",
       "\n",
       "       price  minimum_nights  number_of_reviews  reviews_per_month  \\\n",
       "14380   1800               3                  5               0.13   \n",
       "30080   1250               1                  1               0.06   \n",
       "23545   1000               1                  0            -999.00   \n",
       "\n",
       "       calculated_host_listings_count  availability_365       dist  \n",
       "14380                               2                90  148.05944  \n",
       "30080                               1               173  148.09358  \n",
       "23545                               1                 0  147.94452  "
      ],
      "text/html": [
       "<div>\n",
       "<style scoped>\n",
       "    .dataframe tbody tr th:only-of-type {\n",
       "        vertical-align: middle;\n",
       "    }\n",
       "\n",
       "    .dataframe tbody tr th {\n",
       "        vertical-align: top;\n",
       "    }\n",
       "\n",
       "    .dataframe thead th {\n",
       "        text-align: right;\n",
       "    }\n",
       "</style>\n",
       "<table border=\"1\" class=\"dataframe\">\n",
       "  <thead>\n",
       "    <tr style=\"text-align: right;\">\n",
       "      <th></th>\n",
       "      <th>neighbourhood_group</th>\n",
       "      <th>neighbourhood</th>\n",
       "      <th>latitude</th>\n",
       "      <th>longitude</th>\n",
       "      <th>room_type</th>\n",
       "      <th>price</th>\n",
       "      <th>minimum_nights</th>\n",
       "      <th>number_of_reviews</th>\n",
       "      <th>reviews_per_month</th>\n",
       "      <th>calculated_host_listings_count</th>\n",
       "      <th>availability_365</th>\n",
       "      <th>dist</th>\n",
       "    </tr>\n",
       "  </thead>\n",
       "  <tbody>\n",
       "    <tr>\n",
       "      <th>14380</th>\n",
       "      <td>3</td>\n",
       "      <td>3004</td>\n",
       "      <td>40.76626</td>\n",
       "      <td>-73.93054</td>\n",
       "      <td>2</td>\n",
       "      <td>1800</td>\n",
       "      <td>3</td>\n",
       "      <td>5</td>\n",
       "      <td>0.13</td>\n",
       "      <td>2</td>\n",
       "      <td>90</td>\n",
       "      <td>148.05944</td>\n",
       "    </tr>\n",
       "    <tr>\n",
       "      <th>30080</th>\n",
       "      <td>3</td>\n",
       "      <td>3117</td>\n",
       "      <td>40.74786</td>\n",
       "      <td>-73.94628</td>\n",
       "      <td>2</td>\n",
       "      <td>1250</td>\n",
       "      <td>1</td>\n",
       "      <td>1</td>\n",
       "      <td>0.06</td>\n",
       "      <td>1</td>\n",
       "      <td>173</td>\n",
       "      <td>148.09358</td>\n",
       "    </tr>\n",
       "    <tr>\n",
       "      <th>23545</th>\n",
       "      <td>3</td>\n",
       "      <td>3077</td>\n",
       "      <td>40.76796</td>\n",
       "      <td>-73.81732</td>\n",
       "      <td>2</td>\n",
       "      <td>1000</td>\n",
       "      <td>1</td>\n",
       "      <td>0</td>\n",
       "      <td>-999.00</td>\n",
       "      <td>1</td>\n",
       "      <td>0</td>\n",
       "      <td>147.94452</td>\n",
       "    </tr>\n",
       "  </tbody>\n",
       "</table>\n",
       "</div>"
      ]
     },
     "execution_count": 171,
     "metadata": {},
     "output_type": "execute_result"
    }
   ],
   "execution_count": 171
  }
 ],
 "metadata": {
  "language_info": {
   "name": "python"
  }
 },
 "nbformat": 4,
 "nbformat_minor": 5
}
