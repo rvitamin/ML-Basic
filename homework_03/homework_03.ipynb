{
 "cells": [
  {
   "cell_type": "markdown",
   "id": "e2450ffa",
   "metadata": {},
   "source": [
    "# Домашнее задание: Функции"
   ]
  },
  {
   "cell_type": "markdown",
   "id": "8d062500",
   "metadata": {},
   "source": [
    "## Задание 1: Конвертер регистров\n",
    "\n",
    "Написать функцию, которая будет переводить snake_case в PascalCase и наоборот. \n",
    "\n",
    "Функция должна сама определять - какой формат ей передали. Можно добавить ключевой аргумент, который будет принудительно возвращать один из форматов.\n",
    "\n",
    "<br>\n",
    "\n",
    "**Примеры:**\n",
    "* `otus_course     -> OtusCourse`\n",
    "* `PythonIsTheBest -> python_is_the_best`\n",
    "\n"
   ]
  },
  {
   "cell_type": "code",
   "execution_count": null,
   "id": "ec0075f5",
   "metadata": {},
   "outputs": [],
   "source": [
    "def change_case(text):\n",
    "    # Если все симовлы нижнего регистра, то СЧИТАЕМ что это снейк_кейс\n",
    "    if text.islower():\n",
    "        words = text.title().split('_')\n",
    "        return ''.join(words)\n",
    "    else:\n",
    "        words = []\n",
    "        for _s in text:\n",
    "            if _s.isupper() and text.index(_s) != 0:  # дополнительно проверяем что это не первый симовл текста, т.к. в к первому символу не нужно приклеивать '_'\n",
    "                words.append('_' + _s.lower())\n",
    "            else:\n",
    "                words.append(_s.lower())   # здесь вынуждены приводить к нижнему регистру только из-за первого симовла\n",
    "        return ''.join(words)\n",
    "\n",
    "text = input('Введите текст:')\n",
    "print(change_case(text))"
   ]
  },
  {
   "cell_type": "markdown",
   "id": "b8253fb9",
   "metadata": {},
   "source": [
    "## Задание 2: Проверка валидности даты\n",
    "\n",
    "Написать функцию проверяющую валидность введенной даты.\n",
    "\n",
    "<br>\n",
    "\n",
    "**Примеры:**\n",
    "* `29.02.2000 -> True`\n",
    "* `29.02.2001 -> False`\n",
    "* `31.04.1962 -> False`\n",
    "\n"
   ]
  },
  {
   "cell_type": "code",
   "execution_count": null,
   "id": "e7f4e9c8",
   "metadata": {},
   "outputs": [],
   "source": [
    "def vis(year):\n",
    "    if (year % 100 == 0) and (year % 400 != 0):\n",
    "        return False\n",
    "    elif (year % 4 == 0):\n",
    "        return True\n",
    "    else:\n",
    "        return False\n",
    "\n",
    "def check(date):\n",
    "    day = int(date[:2])\n",
    "    month = int(date[3:5])\n",
    "    year = int(date[6:])\n",
    "    if month == 2 and vis(year) and day <=29:\n",
    "        return True\n",
    "    elif month == 2 and day <=28:\n",
    "        return True\n",
    "    elif (month in [1, 3, 5, 7, 8, 10, 12]) and day <=31:\n",
    "        return True\n",
    "    elif (month in [4, 6, 9, 11]) and day <=30:\n",
    "        return True\n",
    "    else:\n",
    "        return False\n",
    "\n",
    "print(f'Корректная дата - {check(\"29.02.1900\")}')"
   ]
  },
  {
   "cell_type": "markdown",
   "id": "2d77053e",
   "metadata": {},
   "source": [
    "## Задание 3: Проверка на простое число\n",
    "\n",
    "Функция проверки на простое число. Простые числа – это такие числа, которые делятся на себя и на единицу.\n",
    "\n",
    "<br>\n",
    "\n",
    "**Примеры:**\n",
    "* `17 -> True`\n",
    "* `20 -> False`\n",
    "* `23 -> True`"
   ]
  },
  {
   "cell_type": "code",
   "execution_count": null,
   "id": "c20728f6",
   "metadata": {},
   "outputs": [],
   "source": [
    "def check(num):\n",
    "    for i in range(2, num):\n",
    "        if num % i == 0:\n",
    "            return False\n",
    "            break\n",
    "    else:\n",
    "        return True\n",
    "\n",
    "print(check(23))"
   ]
  },
  {
   "cell_type": "markdown",
   "id": "29703efe",
   "metadata": {},
   "source": [
    "## Задание 4: Учет пользователей\n",
    "\n",
    "Пользователь в бесконечном цикле вводит данные пользователей: имя, затем фамилию, возраст и ID. Ввод продолжается до тех пор, пока не будет введено пустое поле. \n",
    "\n",
    "Пользователи заносятся в словарь, где ключ это ID пользователя, а остальные данные записываются в виде кортежа. \n",
    "\n",
    "**Программа должна проверять:**\n",
    "* имя и фамилия состоят только из символов и начинаются с большой буквы - если не с большой, то заменяет букву на большую;\n",
    "* возраст должен быть числом от 18 до 60;\n",
    "* ID - целое число, дополненное до 8 знаков незначащими нулями, ID должен быть уникальным.\n",
    "\n",
    "**Дополнительно:** написать функцию, которая будет выводить полученный словарь в виде таблицы."
   ]
  },
  {
   "cell_type": "code",
   "execution_count": null,
   "id": "54d1f971",
   "metadata": {},
   "outputs": [],
   "source": [
    "def check_name(name):\n",
    "    if not(name.isalpha()):\n",
    "        return ''\n",
    "    else:\n",
    "        return name.capitalize()\n",
    "\n",
    "def check_age(age):\n",
    "    if 18 <= int(age) <= 60:\n",
    "        return age\n",
    "    else:\n",
    "        return ''\n",
    "\n",
    "def check_ID(ID):\n",
    "    if ID.isdigit() and len(ID) <= 8:\n",
    "        return ID.zfill(8)\n",
    "    else:\n",
    "        return ''\n",
    "\n",
    "def print_database(database):\n",
    "    for key, record in database.items():\n",
    "        print(key, record[0], record[1], record[2])\n",
    "\n",
    "print('Вводите данные построчно, формат каждой строки: \"Имя Фамилия Возраст ID\"')\n",
    "print('')\n",
    "\n",
    "database = {}\n",
    "while True:\n",
    "    text = input()\n",
    "    if text == '':\n",
    "        break\n",
    "\n",
    "    words = text.split()\n",
    "    name = check_name(words[0])\n",
    "    family = check_name(words[1])\n",
    "    age = check_age(words[2])\n",
    "    ID = check_ID(words[3])\n",
    "\n",
    "    if '' in (name, family, age, ID):\n",
    "        print('Не корректное значение!')\n",
    "        continue\n",
    "\n",
    "    database[ID] = (name, family, age)\n",
    "\n",
    "print('')\n",
    "print_database(database)"
   ]
  }
 ],
 "metadata": {
  "kernelspec": {
   "display_name": ".venv (3.11.12)",
   "language": "python",
   "name": "python3"
  },
  "language_info": {
   "name": "python",
   "version": "3.11.12"
  }
 },
 "nbformat": 4,
 "nbformat_minor": 5
}
