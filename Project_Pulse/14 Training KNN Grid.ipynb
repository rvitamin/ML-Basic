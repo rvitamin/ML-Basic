{
 "cells": [
  {
   "metadata": {
    "ExecuteTime": {
     "end_time": "2025-10-01T10:54:33.547228Z",
     "start_time": "2025-10-01T10:54:33.539877Z"
    }
   },
   "cell_type": "code",
   "source": [
    "import numpy as np\n",
    "import pandas as pd\n",
    "\n",
    "data = pd.read_csv('dataset13.csv')"
   ],
   "id": "4815e26e2dc6dedd",
   "outputs": [],
   "execution_count": 5
  },
  {
   "metadata": {
    "ExecuteTime": {
     "end_time": "2025-10-01T10:54:33.658656Z",
     "start_time": "2025-10-01T10:54:33.577820Z"
    }
   },
   "cell_type": "code",
   "source": [
    "from sklearn.preprocessing import MinMaxScaler\n",
    "from sklearn.model_selection import train_test_split\n",
    "from sklearn.neighbors import KNeighborsRegressor\n",
    "from sklearn.model_selection import GridSearchCV\n",
    "from sklearn.metrics import mean_squared_error\n",
    "\n",
    "X_train, X_test, y_train, y_test = train_test_split(\n",
    "    data.drop('bpm', axis=1),\n",
    "    data.bpm,\n",
    "    test_size=0.15,\n",
    "    random_state=42\n",
    ")\n",
    "\n",
    "scaler = MinMaxScaler()\n",
    "X_train = scaler.fit_transform(X_train)\n",
    "X_test = scaler.transform(X_test)\n",
    "\n",
    "knn = KNeighborsRegressor()\n",
    "\n",
    "param_grid = {\n",
    "    'n_neighbors': [3, 5, 10],\n",
    "    'weights': ['uniform', 'distance'],\n",
    "}\n",
    "\n",
    "model = GridSearchCV(\n",
    "    estimator=knn,\n",
    "    param_grid=param_grid,\n",
    "    scoring='neg_root_mean_squared_error',\n",
    "    cv=4,         # 4-кратная кросс-валидация\n",
    "    n_jobs=-1,    # параллельно на всех ядрах\n",
    "    verbose=2\n",
    ")\n",
    "\n",
    "model.fit(X_train, y_train)\n",
    "y_pred = model.predict(X_test)\n",
    "y_train_pred = model.predict(X_train)\n",
    "\n",
    "print(\"Best params:\", model.best_params_)\n",
    "print(\"Best RMSE:\", -model.best_score_)\n",
    "print('-----')\n",
    "print(\"Test RMSE = %.4f\" % np.sqrt(mean_squared_error(y_test, y_pred)))\n",
    "print(\"Train RMSE = %.4f\" % np.sqrt(mean_squared_error(y_train, y_train_pred)))"
   ],
   "id": "1189cedee6dcd3eb",
   "outputs": [
    {
     "name": "stdout",
     "output_type": "stream",
     "text": [
      "Fitting 4 folds for each of 8 candidates, totalling 32 fits\n",
      "Best params: {'n_neighbors': 10, 'weights': 'distance'}\n",
      "Best RMSE: 4.737383044829865\n",
      "-----\n",
      "Test RMSE = 3.9261\n",
      "Train RMSE = 0.0000\n"
     ]
    }
   ],
   "execution_count": 6
  }
 ],
 "metadata": {
  "kernelspec": {
   "display_name": "Python 3",
   "language": "python",
   "name": "python3"
  },
  "language_info": {
   "codemirror_mode": {
    "name": "ipython",
    "version": 2
   },
   "file_extension": ".py",
   "mimetype": "text/x-python",
   "name": "python",
   "nbconvert_exporter": "python",
   "pygments_lexer": "ipython2",
   "version": "2.7.6"
  }
 },
 "nbformat": 4,
 "nbformat_minor": 5
}
