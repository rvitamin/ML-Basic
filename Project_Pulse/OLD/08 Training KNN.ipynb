{
 "cells": [
  {
   "metadata": {
    "ExecuteTime": {
     "end_time": "2025-09-29T14:42:26.403176Z",
     "start_time": "2025-09-29T14:42:26.388665Z"
    }
   },
   "cell_type": "code",
   "source": [
    "import numpy as np\n",
    "import pandas as pd\n",
    "\n",
    "data = pd.read_csv('dataset12.csv')\n",
    "# data.head()"
   ],
   "id": "4815e26e2dc6dedd",
   "outputs": [
    {
     "data": {
      "text/plain": [
       "   bpm  pace  time  temperature  gap  dist_quater  count_quater  steps_quater  \\\n",
       "0  149   357  4305           20    2       372590            27       1160574   \n",
       "1  147   363  4403           21    4       372480            27       1172636   \n",
       "2  149   366  4468           24    3       372320            27       1184919   \n",
       "3  153   374  5205           29    2       381430            27       1189566   \n",
       "4  151   356  6564           22    3       363030            26       1181979   \n",
       "\n",
       "   puls_quater  weight_year  \n",
       "0           60         77.1  \n",
       "1           60         77.1  \n",
       "2           60         77.1  \n",
       "3           60         77.2  \n",
       "4           60         77.2  "
      ],
      "text/html": [
       "<div>\n",
       "<style scoped>\n",
       "    .dataframe tbody tr th:only-of-type {\n",
       "        vertical-align: middle;\n",
       "    }\n",
       "\n",
       "    .dataframe tbody tr th {\n",
       "        vertical-align: top;\n",
       "    }\n",
       "\n",
       "    .dataframe thead th {\n",
       "        text-align: right;\n",
       "    }\n",
       "</style>\n",
       "<table border=\"1\" class=\"dataframe\">\n",
       "  <thead>\n",
       "    <tr style=\"text-align: right;\">\n",
       "      <th></th>\n",
       "      <th>bpm</th>\n",
       "      <th>pace</th>\n",
       "      <th>time</th>\n",
       "      <th>temperature</th>\n",
       "      <th>gap</th>\n",
       "      <th>dist_quater</th>\n",
       "      <th>count_quater</th>\n",
       "      <th>steps_quater</th>\n",
       "      <th>puls_quater</th>\n",
       "      <th>weight_year</th>\n",
       "    </tr>\n",
       "  </thead>\n",
       "  <tbody>\n",
       "    <tr>\n",
       "      <th>0</th>\n",
       "      <td>149</td>\n",
       "      <td>357</td>\n",
       "      <td>4305</td>\n",
       "      <td>20</td>\n",
       "      <td>2</td>\n",
       "      <td>372590</td>\n",
       "      <td>27</td>\n",
       "      <td>1160574</td>\n",
       "      <td>60</td>\n",
       "      <td>77.1</td>\n",
       "    </tr>\n",
       "    <tr>\n",
       "      <th>1</th>\n",
       "      <td>147</td>\n",
       "      <td>363</td>\n",
       "      <td>4403</td>\n",
       "      <td>21</td>\n",
       "      <td>4</td>\n",
       "      <td>372480</td>\n",
       "      <td>27</td>\n",
       "      <td>1172636</td>\n",
       "      <td>60</td>\n",
       "      <td>77.1</td>\n",
       "    </tr>\n",
       "    <tr>\n",
       "      <th>2</th>\n",
       "      <td>149</td>\n",
       "      <td>366</td>\n",
       "      <td>4468</td>\n",
       "      <td>24</td>\n",
       "      <td>3</td>\n",
       "      <td>372320</td>\n",
       "      <td>27</td>\n",
       "      <td>1184919</td>\n",
       "      <td>60</td>\n",
       "      <td>77.1</td>\n",
       "    </tr>\n",
       "    <tr>\n",
       "      <th>3</th>\n",
       "      <td>153</td>\n",
       "      <td>374</td>\n",
       "      <td>5205</td>\n",
       "      <td>29</td>\n",
       "      <td>2</td>\n",
       "      <td>381430</td>\n",
       "      <td>27</td>\n",
       "      <td>1189566</td>\n",
       "      <td>60</td>\n",
       "      <td>77.2</td>\n",
       "    </tr>\n",
       "    <tr>\n",
       "      <th>4</th>\n",
       "      <td>151</td>\n",
       "      <td>356</td>\n",
       "      <td>6564</td>\n",
       "      <td>22</td>\n",
       "      <td>3</td>\n",
       "      <td>363030</td>\n",
       "      <td>26</td>\n",
       "      <td>1181979</td>\n",
       "      <td>60</td>\n",
       "      <td>77.2</td>\n",
       "    </tr>\n",
       "  </tbody>\n",
       "</table>\n",
       "</div>"
      ]
     },
     "execution_count": 9,
     "metadata": {},
     "output_type": "execute_result"
    }
   ],
   "execution_count": 9
  },
  {
   "metadata": {
    "ExecuteTime": {
     "end_time": "2025-09-29T14:42:26.557984Z",
     "start_time": "2025-09-29T14:42:26.518794Z"
    }
   },
   "cell_type": "code",
   "source": [
    "from sklearn.preprocessing import MinMaxScaler\n",
    "from sklearn.model_selection import train_test_split\n",
    "from sklearn.neighbors import KNeighborsRegressor\n",
    "from sklearn.metrics import mean_squared_error\n",
    "\n",
    "X_train, X_test, y_train, y_test = train_test_split(\n",
    "    data.drop('bpm', axis=1),\n",
    "    data.bpm,\n",
    "    test_size=0.15,\n",
    "    random_state=42\n",
    ")\n",
    "\n",
    "scaler = MinMaxScaler()\n",
    "X_train = scaler.fit_transform(X_train)\n",
    "X_test = scaler.transform(X_test)\n",
    "\n",
    "model = KNeighborsRegressor()\n",
    "\n",
    "model.fit(X_train, y_train)\n",
    "y_pred = model.predict(X_test)\n",
    "y_train_pred = model.predict(X_train)\n",
    "\n",
    "print(\"Test RMSE = %.4f\" % np.sqrt(mean_squared_error(y_test, y_pred)))\n",
    "print(\"Train RMSE = %.4f\" % np.sqrt(mean_squared_error(y_train, y_train_pred)))\n",
    "\n",
    "for i, coef in enumerate(model.coef_):\n",
    "    print(f\"Feature {i}: {coef:.4f}\")"
   ],
   "id": "1189cedee6dcd3eb",
   "outputs": [
    {
     "name": "stdout",
     "output_type": "stream",
     "text": [
      "Test RMSE = 4.8255\n",
      "Train RMSE = 3.6818\n"
     ]
    },
    {
     "ename": "AttributeError",
     "evalue": "'KNeighborsRegressor' object has no attribute 'coef_'",
     "output_type": "error",
     "traceback": [
      "\u001B[31m---------------------------------------------------------------------------\u001B[39m",
      "\u001B[31mAttributeError\u001B[39m                            Traceback (most recent call last)",
      "\u001B[36mCell\u001B[39m\u001B[36m \u001B[39m\u001B[32mIn[12]\u001B[39m\u001B[32m, line 28\u001B[39m\n\u001B[32m     25\u001B[39m \u001B[38;5;28mprint\u001B[39m(\u001B[33m\"\u001B[39m\u001B[33mTest RMSE = \u001B[39m\u001B[38;5;132;01m%.4f\u001B[39;00m\u001B[33m\"\u001B[39m % np.sqrt(mean_squared_error(y_test, y_pred)))\n\u001B[32m     26\u001B[39m \u001B[38;5;28mprint\u001B[39m(\u001B[33m\"\u001B[39m\u001B[33mTrain RMSE = \u001B[39m\u001B[38;5;132;01m%.4f\u001B[39;00m\u001B[33m\"\u001B[39m % np.sqrt(mean_squared_error(y_train, y_train_pred)))\n\u001B[32m---> \u001B[39m\u001B[32m28\u001B[39m \u001B[38;5;28;01mfor\u001B[39;00m i, coef \u001B[38;5;129;01min\u001B[39;00m \u001B[38;5;28menumerate\u001B[39m(\u001B[43mmodel\u001B[49m\u001B[43m.\u001B[49m\u001B[43mcoef_\u001B[49m):\n\u001B[32m     29\u001B[39m     \u001B[38;5;28mprint\u001B[39m(\u001B[33mf\u001B[39m\u001B[33m\"\u001B[39m\u001B[33mFeature \u001B[39m\u001B[38;5;132;01m{\u001B[39;00mi\u001B[38;5;132;01m}\u001B[39;00m\u001B[33m: \u001B[39m\u001B[38;5;132;01m{\u001B[39;00mcoef\u001B[38;5;132;01m:\u001B[39;00m\u001B[33m.4f\u001B[39m\u001B[38;5;132;01m}\u001B[39;00m\u001B[33m\"\u001B[39m)\n",
      "\u001B[31mAttributeError\u001B[39m: 'KNeighborsRegressor' object has no attribute 'coef_'"
     ]
    }
   ],
   "execution_count": 12
  }
 ],
 "metadata": {
  "kernelspec": {
   "display_name": "Python 3",
   "language": "python",
   "name": "python3"
  },
  "language_info": {
   "codemirror_mode": {
    "name": "ipython",
    "version": 2
   },
   "file_extension": ".py",
   "mimetype": "text/x-python",
   "name": "python",
   "nbconvert_exporter": "python",
   "pygments_lexer": "ipython2",
   "version": "2.7.6"
  }
 },
 "nbformat": 4,
 "nbformat_minor": 5
}
