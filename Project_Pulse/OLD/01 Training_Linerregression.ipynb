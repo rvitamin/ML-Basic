{
 "cells": [
  {
   "metadata": {
    "ExecuteTime": {
     "end_time": "2025-09-21T14:03:38.479491Z",
     "start_time": "2025-09-21T14:03:38.467645Z"
    }
   },
   "cell_type": "code",
   "source": [
    "import numpy as np\n",
    "import pandas as pd\n",
    "\n",
    "# loading the data from local file\n",
    "data = pd.read_csv('dataset8.csv')\n",
    "data.head()"
   ],
   "id": "4815e26e2dc6dedd",
   "outputs": [
    {
     "data": {
      "text/plain": [
       "   bpm  pace  time  temperature  gap  dist_quater  count_quater  steps_quater  \\\n",
       "0  149   357  4305           20    2       372590            27       1160574   \n",
       "1  147   363  4403           21    4       372480            27       1172636   \n",
       "2  149   366  4468           24    3       372320            27       1184919   \n",
       "3  153   374  5205           29    2       381430            27       1189566   \n",
       "4  151   356  6564           22    3       363030            26       1181979   \n",
       "\n",
       "   puls_quater  weight_yeqr  \n",
       "0           60         77.1  \n",
       "1           60         77.1  \n",
       "2           60         77.1  \n",
       "3           60         77.2  \n",
       "4           60         77.2  "
      ],
      "text/html": [
       "<div>\n",
       "<style scoped>\n",
       "    .dataframe tbody tr th:only-of-type {\n",
       "        vertical-align: middle;\n",
       "    }\n",
       "\n",
       "    .dataframe tbody tr th {\n",
       "        vertical-align: top;\n",
       "    }\n",
       "\n",
       "    .dataframe thead th {\n",
       "        text-align: right;\n",
       "    }\n",
       "</style>\n",
       "<table border=\"1\" class=\"dataframe\">\n",
       "  <thead>\n",
       "    <tr style=\"text-align: right;\">\n",
       "      <th></th>\n",
       "      <th>bpm</th>\n",
       "      <th>pace</th>\n",
       "      <th>time</th>\n",
       "      <th>temperature</th>\n",
       "      <th>gap</th>\n",
       "      <th>dist_quater</th>\n",
       "      <th>count_quater</th>\n",
       "      <th>steps_quater</th>\n",
       "      <th>puls_quater</th>\n",
       "      <th>weight_yeqr</th>\n",
       "    </tr>\n",
       "  </thead>\n",
       "  <tbody>\n",
       "    <tr>\n",
       "      <th>0</th>\n",
       "      <td>149</td>\n",
       "      <td>357</td>\n",
       "      <td>4305</td>\n",
       "      <td>20</td>\n",
       "      <td>2</td>\n",
       "      <td>372590</td>\n",
       "      <td>27</td>\n",
       "      <td>1160574</td>\n",
       "      <td>60</td>\n",
       "      <td>77.1</td>\n",
       "    </tr>\n",
       "    <tr>\n",
       "      <th>1</th>\n",
       "      <td>147</td>\n",
       "      <td>363</td>\n",
       "      <td>4403</td>\n",
       "      <td>21</td>\n",
       "      <td>4</td>\n",
       "      <td>372480</td>\n",
       "      <td>27</td>\n",
       "      <td>1172636</td>\n",
       "      <td>60</td>\n",
       "      <td>77.1</td>\n",
       "    </tr>\n",
       "    <tr>\n",
       "      <th>2</th>\n",
       "      <td>149</td>\n",
       "      <td>366</td>\n",
       "      <td>4468</td>\n",
       "      <td>24</td>\n",
       "      <td>3</td>\n",
       "      <td>372320</td>\n",
       "      <td>27</td>\n",
       "      <td>1184919</td>\n",
       "      <td>60</td>\n",
       "      <td>77.1</td>\n",
       "    </tr>\n",
       "    <tr>\n",
       "      <th>3</th>\n",
       "      <td>153</td>\n",
       "      <td>374</td>\n",
       "      <td>5205</td>\n",
       "      <td>29</td>\n",
       "      <td>2</td>\n",
       "      <td>381430</td>\n",
       "      <td>27</td>\n",
       "      <td>1189566</td>\n",
       "      <td>60</td>\n",
       "      <td>77.2</td>\n",
       "    </tr>\n",
       "    <tr>\n",
       "      <th>4</th>\n",
       "      <td>151</td>\n",
       "      <td>356</td>\n",
       "      <td>6564</td>\n",
       "      <td>22</td>\n",
       "      <td>3</td>\n",
       "      <td>363030</td>\n",
       "      <td>26</td>\n",
       "      <td>1181979</td>\n",
       "      <td>60</td>\n",
       "      <td>77.2</td>\n",
       "    </tr>\n",
       "  </tbody>\n",
       "</table>\n",
       "</div>"
      ]
     },
     "execution_count": 23,
     "metadata": {},
     "output_type": "execute_result"
    }
   ],
   "execution_count": 23
  },
  {
   "metadata": {
    "ExecuteTime": {
     "end_time": "2025-09-21T14:03:38.514497Z",
     "start_time": "2025-09-21T14:03:38.510063Z"
    }
   },
   "cell_type": "code",
   "source": [
    "print(data.shape)\n",
    "print(data.isna().sum().sum())"
   ],
   "id": "26f525461ec3946b",
   "outputs": [
    {
     "name": "stdout",
     "output_type": "stream",
     "text": [
      "(270, 10)\n",
      "0\n"
     ]
    }
   ],
   "execution_count": 24
  },
  {
   "metadata": {
    "ExecuteTime": {
     "end_time": "2025-09-21T14:03:38.560236Z",
     "start_time": "2025-09-21T14:03:38.554111Z"
    }
   },
   "cell_type": "code",
   "source": "data.info()",
   "id": "610d750ed80d351b",
   "outputs": [
    {
     "name": "stdout",
     "output_type": "stream",
     "text": [
      "<class 'pandas.core.frame.DataFrame'>\n",
      "RangeIndex: 270 entries, 0 to 269\n",
      "Data columns (total 10 columns):\n",
      " #   Column        Non-Null Count  Dtype  \n",
      "---  ------        --------------  -----  \n",
      " 0   bpm           270 non-null    int64  \n",
      " 1   pace          270 non-null    int64  \n",
      " 2   time          270 non-null    int64  \n",
      " 3   temperature   270 non-null    int64  \n",
      " 4   gap           270 non-null    int64  \n",
      " 5   dist_quater   270 non-null    int64  \n",
      " 6   count_quater  270 non-null    int64  \n",
      " 7   steps_quater  270 non-null    int64  \n",
      " 8   puls_quater   270 non-null    int64  \n",
      " 9   weight_yeqr   270 non-null    float64\n",
      "dtypes: float64(1), int64(9)\n",
      "memory usage: 21.2 KB\n"
     ]
    }
   ],
   "execution_count": 25
  },
  {
   "metadata": {
    "ExecuteTime": {
     "end_time": "2025-09-21T14:03:38.593601Z",
     "start_time": "2025-09-21T14:03:38.586143Z"
    }
   },
   "cell_type": "code",
   "source": [
    "from sklearn.preprocessing import MinMaxScaler\n",
    "from sklearn.model_selection import train_test_split\n",
    "\n",
    "X_train, X_test, y_train, y_test = train_test_split(\n",
    "    data.drop('bpm', axis=1),\n",
    "    data.bpm,\n",
    "    test_size=0.15,\n",
    "    random_state=42\n",
    ")\n",
    "\n",
    "scaler = MinMaxScaler()\n",
    "X_train = scaler.fit_transform(X_train)\n",
    "X_test = scaler.transform(X_test)"
   ],
   "id": "1189cedee6dcd3eb",
   "outputs": [],
   "execution_count": 26
  },
  {
   "metadata": {
    "ExecuteTime": {
     "end_time": "2025-09-21T14:03:38.606708Z",
     "start_time": "2025-09-21T14:03:38.602708Z"
    }
   },
   "cell_type": "code",
   "source": "X_train.mean(axis = 0)",
   "id": "e7a1bcbd72739f93",
   "outputs": [
    {
     "data": {
      "text/plain": [
       "array([0.28722123, 0.28163802, 0.5748216 , 0.03582482, 0.5601904 ,\n",
       "       0.60779557, 0.64834798, 0.35633188, 0.50295973])"
      ]
     },
     "execution_count": 27,
     "metadata": {},
     "output_type": "execute_result"
    }
   ],
   "execution_count": 27
  },
  {
   "metadata": {
    "ExecuteTime": {
     "end_time": "2025-09-21T14:03:38.640478Z",
     "start_time": "2025-09-21T14:03:38.625522Z"
    }
   },
   "cell_type": "code",
   "source": [
    "from sklearn.linear_model import LinearRegression\n",
    "# from sklearn.linear_model import Ridge\n",
    "# from sklearn.linear_model import Lasso\n",
    "from sklearn.metrics import mean_squared_error\n",
    "\n",
    "# model = Ridge()\n",
    "model = LinearRegression()\n",
    "\n",
    "model.fit(X_train, y_train)\n",
    "y_pred = model.predict(X_test)\n",
    "y_train_pred = model.predict(X_train)\n",
    "\n",
    "print(\"Test RMSE = %.4f\" % np.sqrt(mean_squared_error(y_test, y_pred)))\n",
    "print(\"Train RMSE = %.4f\" % np.sqrt(mean_squared_error(y_train, y_train_pred)))"
   ],
   "id": "4427a2d82b83ad48",
   "outputs": [
    {
     "name": "stdout",
     "output_type": "stream",
     "text": [
      "Test RMSE = 4.5232\n",
      "Train RMSE = 4.3672\n"
     ]
    }
   ],
   "execution_count": 28
  },
  {
   "metadata": {
    "ExecuteTime": {
     "end_time": "2025-09-21T14:03:38.678718Z",
     "start_time": "2025-09-21T14:03:38.674495Z"
    }
   },
   "cell_type": "code",
   "source": [
    "for i, coef in enumerate(model.coef_):\n",
    "    print(f\"Feature {i}: {coef:.4f}\")"
   ],
   "id": "d9c4dfcd074d4fdc",
   "outputs": [
    {
     "name": "stdout",
     "output_type": "stream",
     "text": [
      "Feature 0: -36.9961\n",
      "Feature 1: 9.4928\n",
      "Feature 2: 7.0142\n",
      "Feature 3: 3.4618\n",
      "Feature 4: -22.9207\n",
      "Feature 5: 13.3581\n",
      "Feature 6: -0.0095\n",
      "Feature 7: 8.2748\n",
      "Feature 8: 7.4857\n"
     ]
    }
   ],
   "execution_count": 29
  }
 ],
 "metadata": {
  "kernelspec": {
   "display_name": "Python 3",
   "language": "python",
   "name": "python3"
  },
  "language_info": {
   "codemirror_mode": {
    "name": "ipython",
    "version": 2
   },
   "file_extension": ".py",
   "mimetype": "text/x-python",
   "name": "python",
   "nbconvert_exporter": "python",
   "pygments_lexer": "ipython2",
   "version": "2.7.6"
  }
 },
 "nbformat": 4,
 "nbformat_minor": 5
}
