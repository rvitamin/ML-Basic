{
 "cells": [
  {
   "metadata": {
    "ExecuteTime": {
     "end_time": "2025-09-21T14:06:05.171589Z",
     "start_time": "2025-09-21T14:06:05.157045Z"
    }
   },
   "cell_type": "code",
   "source": [
    "import numpy as np\n",
    "import pandas as pd\n",
    "\n",
    "# loading the data from local file\n",
    "data = pd.read_csv('dataset5.csv')\n",
    "data.head()"
   ],
   "id": "4815e26e2dc6dedd",
   "outputs": [
    {
     "data": {
      "text/plain": [
       "   bpm  pace  time  distance  dist_week  dist_month  dist_quater  dist_year  \\\n",
       "0  149   357  4305     12050      24290      157020       372590    1050700   \n",
       "1  147   363  4403     12120      26080      152920       372480    1038580   \n",
       "2  149   366  4468     12170      32310      168800       372320    1049630   \n",
       "3  153   374  5205     13910      51940      154890       381430    1047120   \n",
       "4  151   356  6564     18400      49110      136490       363030    1044230   \n",
       "\n",
       "   count_week  count_month  ...  cold_month  cold_quater  cold_yeqr  \\\n",
       "0           2           11  ...          20           63        213   \n",
       "1           2           11  ...          21           65        214   \n",
       "2           2           12  ...          23           64        215   \n",
       "3           3           11  ...          23           64        215   \n",
       "4           3           10  ...          23           65        216   \n",
       "\n",
       "   puls_week  puls_month  puls_quater  puls_year  gap  temperature  weight  \n",
       "0         60          60           60         60    2           20    77.3  \n",
       "1         60          60           60         60    4           21    77.3  \n",
       "2         60          60           60         60    3           24    78.6  \n",
       "3         61          60           60         60    2           29    76.9  \n",
       "4         61          60           60         60    3           22    76.7  \n",
       "\n",
       "[5 rows x 39 columns]"
      ],
      "text/html": [
       "<div>\n",
       "<style scoped>\n",
       "    .dataframe tbody tr th:only-of-type {\n",
       "        vertical-align: middle;\n",
       "    }\n",
       "\n",
       "    .dataframe tbody tr th {\n",
       "        vertical-align: top;\n",
       "    }\n",
       "\n",
       "    .dataframe thead th {\n",
       "        text-align: right;\n",
       "    }\n",
       "</style>\n",
       "<table border=\"1\" class=\"dataframe\">\n",
       "  <thead>\n",
       "    <tr style=\"text-align: right;\">\n",
       "      <th></th>\n",
       "      <th>bpm</th>\n",
       "      <th>pace</th>\n",
       "      <th>time</th>\n",
       "      <th>distance</th>\n",
       "      <th>dist_week</th>\n",
       "      <th>dist_month</th>\n",
       "      <th>dist_quater</th>\n",
       "      <th>dist_year</th>\n",
       "      <th>count_week</th>\n",
       "      <th>count_month</th>\n",
       "      <th>...</th>\n",
       "      <th>cold_month</th>\n",
       "      <th>cold_quater</th>\n",
       "      <th>cold_yeqr</th>\n",
       "      <th>puls_week</th>\n",
       "      <th>puls_month</th>\n",
       "      <th>puls_quater</th>\n",
       "      <th>puls_year</th>\n",
       "      <th>gap</th>\n",
       "      <th>temperature</th>\n",
       "      <th>weight</th>\n",
       "    </tr>\n",
       "  </thead>\n",
       "  <tbody>\n",
       "    <tr>\n",
       "      <th>0</th>\n",
       "      <td>149</td>\n",
       "      <td>357</td>\n",
       "      <td>4305</td>\n",
       "      <td>12050</td>\n",
       "      <td>24290</td>\n",
       "      <td>157020</td>\n",
       "      <td>372590</td>\n",
       "      <td>1050700</td>\n",
       "      <td>2</td>\n",
       "      <td>11</td>\n",
       "      <td>...</td>\n",
       "      <td>20</td>\n",
       "      <td>63</td>\n",
       "      <td>213</td>\n",
       "      <td>60</td>\n",
       "      <td>60</td>\n",
       "      <td>60</td>\n",
       "      <td>60</td>\n",
       "      <td>2</td>\n",
       "      <td>20</td>\n",
       "      <td>77.3</td>\n",
       "    </tr>\n",
       "    <tr>\n",
       "      <th>1</th>\n",
       "      <td>147</td>\n",
       "      <td>363</td>\n",
       "      <td>4403</td>\n",
       "      <td>12120</td>\n",
       "      <td>26080</td>\n",
       "      <td>152920</td>\n",
       "      <td>372480</td>\n",
       "      <td>1038580</td>\n",
       "      <td>2</td>\n",
       "      <td>11</td>\n",
       "      <td>...</td>\n",
       "      <td>21</td>\n",
       "      <td>65</td>\n",
       "      <td>214</td>\n",
       "      <td>60</td>\n",
       "      <td>60</td>\n",
       "      <td>60</td>\n",
       "      <td>60</td>\n",
       "      <td>4</td>\n",
       "      <td>21</td>\n",
       "      <td>77.3</td>\n",
       "    </tr>\n",
       "    <tr>\n",
       "      <th>2</th>\n",
       "      <td>149</td>\n",
       "      <td>366</td>\n",
       "      <td>4468</td>\n",
       "      <td>12170</td>\n",
       "      <td>32310</td>\n",
       "      <td>168800</td>\n",
       "      <td>372320</td>\n",
       "      <td>1049630</td>\n",
       "      <td>2</td>\n",
       "      <td>12</td>\n",
       "      <td>...</td>\n",
       "      <td>23</td>\n",
       "      <td>64</td>\n",
       "      <td>215</td>\n",
       "      <td>60</td>\n",
       "      <td>60</td>\n",
       "      <td>60</td>\n",
       "      <td>60</td>\n",
       "      <td>3</td>\n",
       "      <td>24</td>\n",
       "      <td>78.6</td>\n",
       "    </tr>\n",
       "    <tr>\n",
       "      <th>3</th>\n",
       "      <td>153</td>\n",
       "      <td>374</td>\n",
       "      <td>5205</td>\n",
       "      <td>13910</td>\n",
       "      <td>51940</td>\n",
       "      <td>154890</td>\n",
       "      <td>381430</td>\n",
       "      <td>1047120</td>\n",
       "      <td>3</td>\n",
       "      <td>11</td>\n",
       "      <td>...</td>\n",
       "      <td>23</td>\n",
       "      <td>64</td>\n",
       "      <td>215</td>\n",
       "      <td>61</td>\n",
       "      <td>60</td>\n",
       "      <td>60</td>\n",
       "      <td>60</td>\n",
       "      <td>2</td>\n",
       "      <td>29</td>\n",
       "      <td>76.9</td>\n",
       "    </tr>\n",
       "    <tr>\n",
       "      <th>4</th>\n",
       "      <td>151</td>\n",
       "      <td>356</td>\n",
       "      <td>6564</td>\n",
       "      <td>18400</td>\n",
       "      <td>49110</td>\n",
       "      <td>136490</td>\n",
       "      <td>363030</td>\n",
       "      <td>1044230</td>\n",
       "      <td>3</td>\n",
       "      <td>10</td>\n",
       "      <td>...</td>\n",
       "      <td>23</td>\n",
       "      <td>65</td>\n",
       "      <td>216</td>\n",
       "      <td>61</td>\n",
       "      <td>60</td>\n",
       "      <td>60</td>\n",
       "      <td>60</td>\n",
       "      <td>3</td>\n",
       "      <td>22</td>\n",
       "      <td>76.7</td>\n",
       "    </tr>\n",
       "  </tbody>\n",
       "</table>\n",
       "<p>5 rows × 39 columns</p>\n",
       "</div>"
      ]
     },
     "execution_count": 23,
     "metadata": {},
     "output_type": "execute_result"
    }
   ],
   "execution_count": 23
  },
  {
   "metadata": {
    "ExecuteTime": {
     "end_time": "2025-09-21T14:06:05.192912Z",
     "start_time": "2025-09-21T14:06:05.189161Z"
    }
   },
   "cell_type": "code",
   "source": [
    "print(data.shape)\n",
    "print(data.isna().sum().sum())"
   ],
   "id": "26f525461ec3946b",
   "outputs": [
    {
     "name": "stdout",
     "output_type": "stream",
     "text": [
      "(270, 39)\n",
      "0\n"
     ]
    }
   ],
   "execution_count": 24
  },
  {
   "metadata": {
    "ExecuteTime": {
     "end_time": "2025-09-21T14:06:05.239066Z",
     "start_time": "2025-09-21T14:06:05.231667Z"
    }
   },
   "cell_type": "code",
   "source": "data.info()",
   "id": "610d750ed80d351b",
   "outputs": [
    {
     "name": "stdout",
     "output_type": "stream",
     "text": [
      "<class 'pandas.core.frame.DataFrame'>\n",
      "RangeIndex: 270 entries, 0 to 269\n",
      "Data columns (total 39 columns):\n",
      " #   Column         Non-Null Count  Dtype  \n",
      "---  ------         --------------  -----  \n",
      " 0   bpm            270 non-null    int64  \n",
      " 1   pace           270 non-null    int64  \n",
      " 2   time           270 non-null    int64  \n",
      " 3   distance       270 non-null    int64  \n",
      " 4   dist_week      270 non-null    int64  \n",
      " 5   dist_month     270 non-null    int64  \n",
      " 6   dist_quater    270 non-null    int64  \n",
      " 7   dist_year      270 non-null    int64  \n",
      " 8   count_week     270 non-null    int64  \n",
      " 9   count_month    270 non-null    int64  \n",
      " 10  count_quater   270 non-null    int64  \n",
      " 11  count_year     270 non-null    int64  \n",
      " 12  point_week     270 non-null    float64\n",
      " 13  point_month    270 non-null    float64\n",
      " 14  point_quater   270 non-null    float64\n",
      " 15  point_year     270 non-null    float64\n",
      " 16  steps_week     270 non-null    int64  \n",
      " 17  steps_month    270 non-null    int64  \n",
      " 18  steps_quater   270 non-null    int64  \n",
      " 19  steps_yeqr     270 non-null    int64  \n",
      " 20  PAI_week       270 non-null    int64  \n",
      " 21  PAI_month      270 non-null    int64  \n",
      " 22  PAI_quater     270 non-null    int64  \n",
      " 23  PAI_yeqr       270 non-null    int64  \n",
      " 24  weight_week    270 non-null    float64\n",
      " 25  weight_month   270 non-null    float64\n",
      " 26  weight_quater  270 non-null    float64\n",
      " 27  weight_yeqr    270 non-null    float64\n",
      " 28  cold_week      270 non-null    int64  \n",
      " 29  cold_month     270 non-null    int64  \n",
      " 30  cold_quater    270 non-null    int64  \n",
      " 31  cold_yeqr      270 non-null    int64  \n",
      " 32  puls_week      270 non-null    int64  \n",
      " 33  puls_month     270 non-null    int64  \n",
      " 34  puls_quater    270 non-null    int64  \n",
      " 35  puls_year      270 non-null    int64  \n",
      " 36  gap            270 non-null    int64  \n",
      " 37  temperature    270 non-null    int64  \n",
      " 38  weight         270 non-null    float64\n",
      "dtypes: float64(9), int64(30)\n",
      "memory usage: 82.4 KB\n"
     ]
    }
   ],
   "execution_count": 25
  },
  {
   "metadata": {
    "ExecuteTime": {
     "end_time": "2025-09-21T14:06:05.272471Z",
     "start_time": "2025-09-21T14:06:05.263215Z"
    }
   },
   "cell_type": "code",
   "source": [
    "from sklearn.preprocessing import MinMaxScaler\n",
    "from sklearn.model_selection import train_test_split\n",
    "\n",
    "X_train, X_test, y_train, y_test = train_test_split(\n",
    "    data.drop('bpm', axis=1),\n",
    "    data.bpm,\n",
    "    test_size=0.15,\n",
    "    random_state=42\n",
    ")\n",
    "\n",
    "scaler = MinMaxScaler()\n",
    "X_train = scaler.fit_transform(X_train)\n",
    "X_test = scaler.transform(X_test)"
   ],
   "id": "1189cedee6dcd3eb",
   "outputs": [],
   "execution_count": 26
  },
  {
   "metadata": {
    "ExecuteTime": {
     "end_time": "2025-09-21T14:06:05.284403Z",
     "start_time": "2025-09-21T14:06:05.279381Z"
    }
   },
   "cell_type": "code",
   "source": "X_train.mean(axis = 0)",
   "id": "e7a1bcbd72739f93",
   "outputs": [
    {
     "data": {
      "text/plain": [
       "array([0.28722123, 0.28163802, 0.27021875, 0.3585828 , 0.39590361,\n",
       "       0.5601904 , 0.62171182, 0.38209607, 0.3706653 , 0.60779557,\n",
       "       0.61382441, 0.63149345, 0.64554074, 0.62310485, 0.52856498,\n",
       "       0.47342131, 0.67184701, 0.64834798, 0.79020964, 0.54203501,\n",
       "       0.5125373 , 0.58768392, 0.66387789, 0.43405061, 0.4421872 ,\n",
       "       0.44696436, 0.50295973, 0.64316906, 0.53729985, 0.49578552,\n",
       "       0.71939272, 0.35851528, 0.37367436, 0.35633188, 0.51091703,\n",
       "       0.03582482, 0.5748216 , 0.45943331])"
      ]
     },
     "execution_count": 27,
     "metadata": {},
     "output_type": "execute_result"
    }
   ],
   "execution_count": 27
  },
  {
   "metadata": {
    "ExecuteTime": {
     "end_time": "2025-09-21T14:06:05.365922Z",
     "start_time": "2025-09-21T14:06:05.302354Z"
    }
   },
   "cell_type": "code",
   "source": [
    "from sklearn.ensemble import BaggingRegressor\n",
    "from sklearn.linear_model import LinearRegression\n",
    "from sklearn.metrics import mean_squared_error\n",
    "\n",
    "# from sklearn.tree import DecisionTreeRegressor\n",
    "\n",
    "# Базовая модель\n",
    "lin = LinearRegression()\n",
    "\n",
    "# Ансамбль из 10 деревьев\n",
    "model = BaggingRegressor(\n",
    "    estimator=lin,       # вместо base_estimator\n",
    "    n_estimators=10,\n",
    "    max_samples=0.85,     # каждая модель обучается на 85% случайных объектов\n",
    "    max_features=1.0,    # все признаки\n",
    "    random_state=111,\n",
    "    n_jobs=-1\n",
    ")\n",
    "\n",
    "model.fit(X_train, y_train)\n",
    "y_pred = model.predict(X_test)\n",
    "y_train_pred = model.predict(X_train)\n",
    "\n",
    "# print(\"Test MSE = %.4f\" % mean_squared_error(y_test, y_pred))\n",
    "# print(\"Train MSE = %.4f\" % mean_squared_error(y_train, y_train_pred))\n",
    "# print('-----')\n",
    "print(\"Test RMSE = %.4f\" % np.sqrt(mean_squared_error(y_test, y_pred)))\n",
    "print(\"Train RMSE = %.4f\" % np.sqrt(mean_squared_error(y_train, y_train_pred)))"
   ],
   "id": "4427a2d82b83ad48",
   "outputs": [
    {
     "name": "stdout",
     "output_type": "stream",
     "text": [
      "Test RMSE = 4.1518\n",
      "Train RMSE = 3.3336\n"
     ]
    }
   ],
   "execution_count": 28
  },
  {
   "metadata": {
    "ExecuteTime": {
     "end_time": "2025-09-21T14:06:05.397118Z",
     "start_time": "2025-09-21T14:06:05.392219Z"
    }
   },
   "cell_type": "code",
   "source": [
    "# усредняем коэффициенты всех линейных регрессоров внутри бэггинга\n",
    "coefs = np.mean([est.coef_ for est in model.estimators_], axis=0)\n",
    "\n",
    "for i, coef in enumerate(coefs):\n",
    "    print(f\"Feature {i}: {coef:.4f}\")"
   ],
   "id": "ec7b5e21d866f262",
   "outputs": [
    {
     "name": "stdout",
     "output_type": "stream",
     "text": [
      "Feature 0: -28.1287\n",
      "Feature 1: 21.8883\n",
      "Feature 2: -11.3557\n",
      "Feature 3: 3.8423\n",
      "Feature 4: 11.6460\n",
      "Feature 5: -41.5832\n",
      "Feature 6: -52.2265\n",
      "Feature 7: -9.5263\n",
      "Feature 8: -11.1665\n",
      "Feature 9: 29.9548\n",
      "Feature 10: 43.3015\n",
      "Feature 11: -6.1801\n",
      "Feature 12: -0.0983\n",
      "Feature 13: 19.8975\n",
      "Feature 14: -11.9013\n",
      "Feature 15: 2.9328\n",
      "Feature 16: -1.1768\n",
      "Feature 17: -3.1686\n",
      "Feature 18: 9.5446\n",
      "Feature 19: -4.3939\n",
      "Feature 20: -0.1055\n",
      "Feature 21: 13.9114\n",
      "Feature 22: -15.1514\n",
      "Feature 23: 3.5489\n",
      "Feature 24: 16.5428\n",
      "Feature 25: -2.6335\n",
      "Feature 26: -7.1803\n",
      "Feature 27: 1.0726\n",
      "Feature 28: -0.7108\n",
      "Feature 29: 1.5861\n",
      "Feature 30: 0.2305\n",
      "Feature 31: 0.2137\n",
      "Feature 32: 0.2237\n",
      "Feature 33: 2.2124\n",
      "Feature 34: 4.1153\n",
      "Feature 35: -4.1579\n",
      "Feature 36: 6.9997\n",
      "Feature 37: -10.0795\n"
     ]
    }
   ],
   "execution_count": 29
  }
 ],
 "metadata": {
  "kernelspec": {
   "display_name": "Python 3",
   "language": "python",
   "name": "python3"
  },
  "language_info": {
   "codemirror_mode": {
    "name": "ipython",
    "version": 2
   },
   "file_extension": ".py",
   "mimetype": "text/x-python",
   "name": "python",
   "nbconvert_exporter": "python",
   "pygments_lexer": "ipython2",
   "version": "2.7.6"
  }
 },
 "nbformat": 4,
 "nbformat_minor": 5
}
