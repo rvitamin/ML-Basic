{
 "cells": [
  {
   "metadata": {
    "ExecuteTime": {
     "end_time": "2025-10-01T12:38:15.675875Z",
     "start_time": "2025-10-01T12:38:15.380437Z"
    }
   },
   "cell_type": "code",
   "source": [
    "import numpy as np\n",
    "import pandas as pd\n",
    "\n",
    "data = pd.read_csv('dataset14.csv')"
   ],
   "id": "4815e26e2dc6dedd",
   "outputs": [],
   "execution_count": 1
  },
  {
   "metadata": {
    "ExecuteTime": {
     "end_time": "2025-10-01T12:38:25.276631Z",
     "start_time": "2025-10-01T12:38:15.684156Z"
    }
   },
   "cell_type": "code",
   "source": [
    "from sklearn.preprocessing import MinMaxScaler\n",
    "from sklearn.model_selection import train_test_split\n",
    "from sklearn.ensemble import RandomForestRegressor\n",
    "from sklearn.model_selection import GridSearchCV\n",
    "from sklearn.metrics import mean_squared_error\n",
    "\n",
    "X_train, X_test, y_train, y_test = train_test_split(\n",
    "    data.drop('bpm', axis=1),\n",
    "    data.bpm,\n",
    "    test_size=0.15,\n",
    "    random_state=42\n",
    ")\n",
    "\n",
    "scaler = MinMaxScaler()\n",
    "X_train = scaler.fit_transform(X_train)\n",
    "X_test = scaler.transform(X_test)\n",
    "\n",
    "rf = RandomForestRegressor(random_state=42)\n",
    "\n",
    "param_grid = {\n",
    "    'n_estimators': [200, 270, 350],   # число деревьев\n",
    "    'max_depth': [10, 20, 50],          # глубина\n",
    "    # 'min_samples_split': [2],   # минимальное число объектов для разбиения\n",
    "    # 'min_samples_leaf': [1]      # минимальное число объектов в листе\n",
    "}\n",
    "\n",
    "model = GridSearchCV(\n",
    "    estimator=rf,\n",
    "    param_grid=param_grid,\n",
    "    scoring='neg_root_mean_squared_error',\n",
    "    cv=4,         # 4-кратная кросс-валидация\n",
    "    n_jobs=-1,    # параллельно на всех ядрах\n",
    "    verbose=2\n",
    ")\n",
    "\n",
    "model.fit(X_train, y_train)\n",
    "y_pred = model.predict(X_test)\n",
    "y_train_pred = model.predict(X_train)\n",
    "\n",
    "print(\"Best params:\", model.best_params_)\n",
    "print(\"Best RMSE:\", -model.best_score_)\n",
    "print('-----')\n",
    "print(\"Test RMSE = %.4f\" % np.sqrt(mean_squared_error(y_test, y_pred)))\n",
    "print(\"Train RMSE = %.4f\" % np.sqrt(mean_squared_error(y_train, y_train_pred)))"
   ],
   "id": "1189cedee6dcd3eb",
   "outputs": [
    {
     "name": "stdout",
     "output_type": "stream",
     "text": [
      "Fitting 4 folds for each of 9 candidates, totalling 36 fits\n",
      "Best params: {'max_depth': 20, 'n_estimators': 350}\n",
      "Best RMSE: 4.0880367244242795\n",
      "-----\n",
      "Test RMSE = 3.2024\n",
      "Train RMSE = 1.4667\n"
     ]
    }
   ],
   "execution_count": 2
  }
 ],
 "metadata": {
  "kernelspec": {
   "display_name": "Python 3",
   "language": "python",
   "name": "python3"
  },
  "language_info": {
   "codemirror_mode": {
    "name": "ipython",
    "version": 2
   },
   "file_extension": ".py",
   "mimetype": "text/x-python",
   "name": "python",
   "nbconvert_exporter": "python",
   "pygments_lexer": "ipython2",
   "version": "2.7.6"
  }
 },
 "nbformat": 4,
 "nbformat_minor": 5
}
