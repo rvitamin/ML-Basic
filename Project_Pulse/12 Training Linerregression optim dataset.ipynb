{
 "cells": [
  {
   "metadata": {
    "ExecuteTime": {
     "end_time": "2025-10-01T10:51:26.682375Z",
     "start_time": "2025-10-01T10:51:26.675716Z"
    }
   },
   "cell_type": "code",
   "source": [
    "import numpy as np\n",
    "import pandas as pd\n",
    "\n",
    "data = pd.read_csv('dataset13.csv')\n",
    "# data.head()"
   ],
   "id": "4815e26e2dc6dedd",
   "outputs": [],
   "execution_count": 9
  },
  {
   "metadata": {
    "ExecuteTime": {
     "end_time": "2025-10-01T10:51:26.716578Z",
     "start_time": "2025-10-01T10:51:26.710963Z"
    }
   },
   "cell_type": "code",
   "source": [
    "print(data.shape)\n",
    "print(data.isna().sum().sum())"
   ],
   "id": "26f525461ec3946b",
   "outputs": [
    {
     "name": "stdout",
     "output_type": "stream",
     "text": [
      "(270, 10)\n",
      "0\n"
     ]
    }
   ],
   "execution_count": 10
  },
  {
   "metadata": {
    "ExecuteTime": {
     "end_time": "2025-10-01T10:51:26.773839Z",
     "start_time": "2025-10-01T10:51:26.761916Z"
    }
   },
   "cell_type": "code",
   "source": "data.info()",
   "id": "610d750ed80d351b",
   "outputs": [
    {
     "name": "stdout",
     "output_type": "stream",
     "text": [
      "<class 'pandas.core.frame.DataFrame'>\n",
      "RangeIndex: 270 entries, 0 to 269\n",
      "Data columns (total 10 columns):\n",
      " #   Column        Non-Null Count  Dtype  \n",
      "---  ------        --------------  -----  \n",
      " 0   bpm           270 non-null    int64  \n",
      " 1   pace          270 non-null    int64  \n",
      " 2   time          270 non-null    int64  \n",
      " 3   temperature   270 non-null    int64  \n",
      " 4   gap           270 non-null    int64  \n",
      " 5   dist_quater   270 non-null    int64  \n",
      " 6   count_quater  270 non-null    int64  \n",
      " 7   steps_quater  270 non-null    int64  \n",
      " 8   puls_quater   270 non-null    int64  \n",
      " 9   weight_year   270 non-null    float64\n",
      "dtypes: float64(1), int64(9)\n",
      "memory usage: 21.2 KB\n"
     ]
    }
   ],
   "execution_count": 11
  },
  {
   "metadata": {
    "ExecuteTime": {
     "end_time": "2025-10-01T10:51:26.805458Z",
     "start_time": "2025-10-01T10:51:26.785141Z"
    }
   },
   "cell_type": "code",
   "source": [
    "from sklearn.preprocessing import MinMaxScaler\n",
    "from sklearn.model_selection import train_test_split\n",
    "from sklearn.linear_model import LinearRegression\n",
    "from sklearn.metrics import mean_squared_error\n",
    "\n",
    "\n",
    "X_train, X_test, y_train, y_test = train_test_split(\n",
    "    data.drop('bpm', axis=1),\n",
    "    data.bpm,\n",
    "    test_size=0.15,\n",
    "    random_state=42\n",
    ")\n",
    "\n",
    "scaler = MinMaxScaler()\n",
    "X_train = scaler.fit_transform(X_train)\n",
    "X_test = scaler.transform(X_test)\n",
    "\n",
    "model = LinearRegression()\n",
    "\n",
    "model.fit(X_train, y_train)\n",
    "y_pred = model.predict(X_test)\n",
    "y_train_pred = model.predict(X_train)\n",
    "\n",
    "print(\"Test RMSE = %.4f\" % np.sqrt(mean_squared_error(y_test, y_pred)))\n",
    "print(\"Train RMSE = %.4f\" % np.sqrt(mean_squared_error(y_train, y_train_pred)))\n",
    "\n",
    "print('----------')\n",
    "for i, coef in enumerate(model.coef_):\n",
    "    print(f\"Feature {i}: {coef:.4f}\")"
   ],
   "id": "1189cedee6dcd3eb",
   "outputs": [
    {
     "name": "stdout",
     "output_type": "stream",
     "text": [
      "Test RMSE = 4.5232\n",
      "Train RMSE = 4.3672\n",
      "----------\n",
      "Feature 0: -36.9961\n",
      "Feature 1: 9.4928\n",
      "Feature 2: 7.0142\n",
      "Feature 3: 3.4618\n",
      "Feature 4: -22.9207\n",
      "Feature 5: 13.3581\n",
      "Feature 6: -0.0095\n",
      "Feature 7: 8.2748\n",
      "Feature 8: 7.4857\n"
     ]
    }
   ],
   "execution_count": 12
  }
 ],
 "metadata": {
  "kernelspec": {
   "display_name": "Python 3",
   "language": "python",
   "name": "python3"
  },
  "language_info": {
   "codemirror_mode": {
    "name": "ipython",
    "version": 2
   },
   "file_extension": ".py",
   "mimetype": "text/x-python",
   "name": "python",
   "nbconvert_exporter": "python",
   "pygments_lexer": "ipython2",
   "version": "2.7.6"
  }
 },
 "nbformat": 4,
 "nbformat_minor": 5
}
